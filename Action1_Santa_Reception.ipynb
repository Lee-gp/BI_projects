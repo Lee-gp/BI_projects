{
 "cells": [
  {
   "cell_type": "code",
   "execution_count": 1,
   "metadata": {},
   "outputs": [],
   "source": [
    "import pandas as pd\n",
    "import numpy as np\n",
    "import matplotlib.pyplot as plt\n",
    "import seaborn as sns\n",
    "from ortools.linear_solver import pywraplp\n",
    "from numba import njit"
   ]
  },
  {
   "cell_type": "markdown",
   "metadata": {},
   "source": [
    "## step1 数据加载"
   ]
  },
  {
   "cell_type": "code",
   "execution_count": 2,
   "metadata": {},
   "outputs": [
    {
     "data": {
      "text/html": [
       "<div>\n",
       "<style scoped>\n",
       "    .dataframe tbody tr th:only-of-type {\n",
       "        vertical-align: middle;\n",
       "    }\n",
       "\n",
       "    .dataframe tbody tr th {\n",
       "        vertical-align: top;\n",
       "    }\n",
       "\n",
       "    .dataframe thead th {\n",
       "        text-align: right;\n",
       "    }\n",
       "</style>\n",
       "<table border=\"1\" class=\"dataframe\">\n",
       "  <thead>\n",
       "    <tr style=\"text-align: right;\">\n",
       "      <th></th>\n",
       "      <th>family_id</th>\n",
       "      <th>choice_0</th>\n",
       "      <th>choice_1</th>\n",
       "      <th>choice_2</th>\n",
       "      <th>choice_3</th>\n",
       "      <th>choice_4</th>\n",
       "      <th>choice_5</th>\n",
       "      <th>choice_6</th>\n",
       "      <th>choice_7</th>\n",
       "      <th>choice_8</th>\n",
       "      <th>choice_9</th>\n",
       "      <th>n_people</th>\n",
       "    </tr>\n",
       "  </thead>\n",
       "  <tbody>\n",
       "    <tr>\n",
       "      <th>0</th>\n",
       "      <td>0</td>\n",
       "      <td>52</td>\n",
       "      <td>38</td>\n",
       "      <td>12</td>\n",
       "      <td>82</td>\n",
       "      <td>33</td>\n",
       "      <td>75</td>\n",
       "      <td>64</td>\n",
       "      <td>76</td>\n",
       "      <td>10</td>\n",
       "      <td>28</td>\n",
       "      <td>4</td>\n",
       "    </tr>\n",
       "    <tr>\n",
       "      <th>1</th>\n",
       "      <td>1</td>\n",
       "      <td>26</td>\n",
       "      <td>4</td>\n",
       "      <td>82</td>\n",
       "      <td>5</td>\n",
       "      <td>11</td>\n",
       "      <td>47</td>\n",
       "      <td>38</td>\n",
       "      <td>6</td>\n",
       "      <td>66</td>\n",
       "      <td>61</td>\n",
       "      <td>4</td>\n",
       "    </tr>\n",
       "    <tr>\n",
       "      <th>2</th>\n",
       "      <td>2</td>\n",
       "      <td>100</td>\n",
       "      <td>54</td>\n",
       "      <td>25</td>\n",
       "      <td>12</td>\n",
       "      <td>27</td>\n",
       "      <td>82</td>\n",
       "      <td>10</td>\n",
       "      <td>89</td>\n",
       "      <td>80</td>\n",
       "      <td>33</td>\n",
       "      <td>3</td>\n",
       "    </tr>\n",
       "    <tr>\n",
       "      <th>3</th>\n",
       "      <td>3</td>\n",
       "      <td>2</td>\n",
       "      <td>95</td>\n",
       "      <td>1</td>\n",
       "      <td>96</td>\n",
       "      <td>32</td>\n",
       "      <td>6</td>\n",
       "      <td>40</td>\n",
       "      <td>31</td>\n",
       "      <td>9</td>\n",
       "      <td>59</td>\n",
       "      <td>2</td>\n",
       "    </tr>\n",
       "    <tr>\n",
       "      <th>4</th>\n",
       "      <td>4</td>\n",
       "      <td>53</td>\n",
       "      <td>1</td>\n",
       "      <td>47</td>\n",
       "      <td>93</td>\n",
       "      <td>26</td>\n",
       "      <td>3</td>\n",
       "      <td>46</td>\n",
       "      <td>16</td>\n",
       "      <td>42</td>\n",
       "      <td>39</td>\n",
       "      <td>4</td>\n",
       "    </tr>\n",
       "  </tbody>\n",
       "</table>\n",
       "</div>"
      ],
      "text/plain": [
       "   family_id  choice_0  choice_1  choice_2  choice_3  choice_4  choice_5  \\\n",
       "0          0        52        38        12        82        33        75   \n",
       "1          1        26         4        82         5        11        47   \n",
       "2          2       100        54        25        12        27        82   \n",
       "3          3         2        95         1        96        32         6   \n",
       "4          4        53         1        47        93        26         3   \n",
       "\n",
       "   choice_6  choice_7  choice_8  choice_9  n_people  \n",
       "0        64        76        10        28         4  \n",
       "1        38         6        66        61         4  \n",
       "2        10        89        80        33         3  \n",
       "3        40        31         9        59         2  \n",
       "4        46        16        42        39         4  "
      ]
     },
     "execution_count": 2,
     "metadata": {},
     "output_type": "execute_result"
    }
   ],
   "source": [
    "\"\"\"\n",
    "Santa的接待安排\n",
    "圣诞节前100天，Santa开放了workshop，欢迎以家庭单位的参观，如何更合理的安排这些家庭参观？\n",
    "每个家庭有10个选择choice0-9，数字代表了距离圣诞节的天数，比如 1代表12月24日，\n",
    "每个家庭必须并且只安排一次参观\n",
    "家庭数量 5000，即family_id 为[0, 4999]，每天访问的人数需要在125-300人\n",
    "为了更合理的计算Santa的安排能力，我们使用preference cost和accounting penalty两个指标\n",
    "1）preference cost，代表Santa的个性化安排能力\n",
    "2）accounting penalty，代表Santa安排的财务成本\n",
    "每天接待的人员数N(d)如果大于125，就会拥挤，产生过多的清洁成本\n",
    "最终的 Score = preference cost + accounting penalty\n",
    "最终提交每个家庭的安排 submission.csv\n",
    "\"\"\"\n",
    "#数据加载\n",
    "data = pd.read_csv(\"family_data.csv\")\n",
    "data.head()"
   ]
  },
  {
   "cell_type": "code",
   "execution_count": 3,
   "metadata": {},
   "outputs": [
    {
     "data": {
      "image/png": "[encoded data removed]",
      "text/plain": [
       "<Figure size 432x288 with 1 Axes>"
      ]
     },
     "metadata": {
      "needs_background": "light"
     },
     "output_type": "display_data"
    },
    {
     "data": {
      "image/png": "[encoded data removed]",
      "text/plain": [
       "<Figure size 432x288 with 1 Axes>"
      ]
     },
     "metadata": {
      "needs_background": "light"
     },
     "output_type": "display_data"
    },
    {
     "data": {
      "image/png": "[encoded data removed]",
      "text/plain": [
       "<Figure size 432x288 with 1 Axes>"
      ]
     },
     "metadata": {
      "needs_background": "light"
     },
     "output_type": "display_data"
    },
    {
     "data": {
      "image/png": "[encoded data removed]",
      "text/plain": [
       "<Figure size 432x288 with 1 Axes>"
      ]
     },
     "metadata": {
      "needs_background": "light"
     },
     "output_type": "display_data"
    },
    {
     "data": {
      "image/png": "[encoded data removed]",
      "text/plain": [
       "<Figure size 432x288 with 1 Axes>"
      ]
     },
     "metadata": {
      "needs_background": "light"
     },
     "output_type": "display_data"
    },
    {
     "data": {
      "image/png": "[encoded data removed]",
      "text/plain": [
       "<Figure size 432x288 with 1 Axes>"
      ]
     },
     "metadata": {
      "needs_background": "light"
     },
     "output_type": "display_data"
    },
    {
     "data": {
      "image/png": "[encoded data removed]",
      "text/plain": [
       "<Figure size 432x288 with 1 Axes>"
      ]
     },
     "metadata": {
      "needs_background": "light"
     },
     "output_type": "display_data"
    },
    {
     "data": {
      "image/png": "[encoded data removed]",
      "text/plain": [
       "<Figure size 432x288 with 1 Axes>"
      ]
     },
     "metadata": {
      "needs_background": "light"
     },
     "output_type": "display_data"
    },
    {
     "data": {
      "image/png": "[encoded data removed]",
      "text/plain": [
       "<Figure size 432x288 with 1 Axes>"
      ]
     },
     "metadata": {
      "needs_background": "light"
     },
     "output_type": "display_data"
    },
    {
     "data": {
      "image/png": "[encoded data removed]",
      "text/plain": [
       "<Figure size 432x288 with 1 Axes>"
      ]
     },
     "metadata": {
      "needs_background": "light"
     },
     "output_type": "display_data"
    },
    {
     "data": {
      "image/png": "[encoded data removed]",
      "text/plain": [
       "<Figure size 432x288 with 1 Axes>"
      ]
     },
     "metadata": {
      "needs_background": "light"
     },
     "output_type": "display_data"
    }
   ],
   "source": [
    "#EDA\n",
    "#家庭人数分布\n",
    "sns.histplot(data[\"n_people\"])\n",
    "plt.show()\n",
    "#拜访天数分布情况\n",
    "for i in range(10):\n",
    "    sns.histplot(data[\"choice_\"+\"{}\".format(i)])\n",
    "    plt.show()"
   ]
  },
  {
   "cell_type": "markdown",
   "metadata": {},
   "source": [
    "## step2 数据预处理\n",
    "+ 1)计算Perference Cost矩阵 pcost_mat\n",
    "+ 2)计算Accounting Cost矩阵 acost_mat\n",
    "+ 3)计算每个家庭人数family_size\n",
    "+ 4)计算每个家庭的倾向选择(choice)desired"
   ]
  },
  {
   "cell_type": "code",
   "execution_count": 4,
   "metadata": {},
   "outputs": [],
   "source": [
    "#条件常量\n",
    "NFAMILY = 5000\n",
    "NDAY = 100\n",
    "#NCHOICE = 10\n",
    "MAXPEOPLE = 300\n",
    "MINPEOPLE =125"
   ]
  },
  {
   "cell_type": "code",
   "execution_count": 5,
   "metadata": {},
   "outputs": [],
   "source": [
    "def get_family_cost(choice,n):\n",
    "    \"\"\"\n",
    "    计算给定家庭在不同选择下的花费\n",
    "    \"\"\"\n",
    "    if choice == 0:\n",
    "        cost = 0\n",
    "    elif choice == 1:\n",
    "        cost = 50\n",
    "    elif choice == 2:\n",
    "        cost = 50 + n*9\n",
    "    elif choice == 3:\n",
    "        cost = 100 + n*9\n",
    "    elif choice == 4:\n",
    "        cost = 200 + n * 9\n",
    "    elif choice == 5:\n",
    "        cost = 200 + n * 18\n",
    "    elif choice == 6:\n",
    "        cost = 300 + n * 18\n",
    "    elif choice == 7:\n",
    "        cost = 300 + n * 36\n",
    "    elif choice == 8:\n",
    "        cost = 400 + n * 36\n",
    "    elif choice == 9:\n",
    "        cost = 500 + n * (36 + 199)\n",
    "    else:\n",
    "        cost = 500 + n * (36 + 398)\n",
    "    return cost"
   ]
  },
  {
   "cell_type": "code",
   "execution_count": 6,
   "metadata": {},
   "outputs": [],
   "source": [
    "def get_pcost_matrix():\n",
    "    \"\"\"\n",
    "    计算每个家庭在活动期内的preference cost    \n",
    "    \"\"\"\n",
    "    #初始化preference cost matrix\n",
    "    pcost_matrix = np.full(shape = (NFAMILY,NDAY),fill_value = 999999)\n",
    "    #print(pcost_matrix)\n",
    "    #计算pcost  \n",
    "    for f in data[\"family_id\"]:\n",
    "        #按最大值填充矩阵\n",
    "        n_people = data.iloc[f][\"n_people\"]    \n",
    "        pcost_matrix[f,:] = get_family_cost(10,n_people)        \n",
    "        #按家庭choice更新pcost\n",
    "        for i in range(10):\n",
    "            days = data.iloc[f][\"choice_\" +str(i)]\n",
    "            cost = get_family_cost(i,n_people)            \n",
    "            pcost_matrix[f,days-1] = cost       \n",
    "    return pcost_matrix          "
   ]
  },
  {
   "cell_type": "code",
   "execution_count": 7,
   "metadata": {},
   "outputs": [],
   "source": [
    "def get_acost_matrix():\n",
    "    \"\"\"\n",
    "    计算活动期间由于人数过多产生的财务费用accounting penalty\n",
    "    \"\"\"\n",
    "    #按当天和前一天所有的人数组合300*300，另外考虑0人的情况\n",
    "    acost_matrix = np.zeros(shape =(MAXPEOPLE+1,MAXPEOPLE+1),dtype = np.float64)\n",
    "    #计算acost\n",
    "    for i in range(acost_matrix.shape[0]): #当天安排的人数i+1\n",
    "        for j in range(acost_matrix.shape[1]): #前一天安排的人数 j +1\n",
    "            diff = abs(i  - j)\n",
    "            acost_matrix[i, j] = max(0,(i - 125) / 400 * i ** (1/2 + diff/50))\n",
    "    return acost_matrix   "
   ]
  },
  {
   "cell_type": "code",
   "execution_count": 8,
   "metadata": {},
   "outputs": [
    {
     "name": "stdout",
     "output_type": "stream",
     "text": [
      "[[0.00000000e+00 0.00000000e+00 0.00000000e+00 ... 0.00000000e+00\n",
      "  0.00000000e+00 0.00000000e+00]\n",
      " [0.00000000e+00 0.00000000e+00 0.00000000e+00 ... 0.00000000e+00\n",
      "  0.00000000e+00 0.00000000e+00]\n",
      " [0.00000000e+00 0.00000000e+00 0.00000000e+00 ... 0.00000000e+00\n",
      "  0.00000000e+00 0.00000000e+00]\n",
      " ...\n",
      " [4.16316072e+15 3.71482922e+15 3.31477861e+15 ... 7.46610759e+00\n",
      "  8.36716954e+00 9.37697794e+00]\n",
      " [4.79555148e+15 4.27883100e+15 3.81778713e+15 ... 8.43020770e+00\n",
      "  7.52185316e+00 8.43020770e+00]\n",
      " [5.52415954e+15 4.92860244e+15 4.39725208e+15 ... 9.51970597e+00\n",
      "  8.49339085e+00 7.57772228e+00]]\n"
     ]
    }
   ],
   "source": [
    "#数据预处理\n",
    "pcost_mat = get_pcost_matrix()\n",
    "acost_mat = get_acost_matrix()\n",
    "print(acost_mat)\n",
    "family_size = data[\"n_people\"].values\n",
    "# print(family_size)\n",
    "#每个家庭的选择\n",
    "desired = data.values[:,1:-1] -1 #-1是为了和pcost,acost矩阵匹配\n",
    "# print(desired)\n",
    "#总参与人数\n",
    "total_people = data[\"n_people\"].values.sum()\n",
    "# print(total_people)"
   ]
  },
  {
   "cell_type": "markdown",
   "metadata": {},
   "source": [
    "## 使用LP和MLP求解规划方案\n",
    "+ 1)先用LP对绝大部分家庭进行规划\n",
    "+ 2)再使用MLP对剩余家庭进行规划\n",
    "+ 3)汇总两边的结果 => 最终规划方案"
   ]
  },
  {
   "cell_type": "code",
   "execution_count": 9,
   "metadata": {},
   "outputs": [],
   "source": [
    "def solveLP():\n",
    "    \"\"\"\n",
    "    线性规划求解\n",
    "    \"\"\"   \n",
    "    solver = pywraplp.Solver(\"santa\",pywraplp.Solver.GLOP_LINEAR_PROGRAMMING)\n",
    "    #参观期间每天都有哪些家庭准备选择\n",
    "    #family i 在choice为第j天\n",
    "    candidates = dict()\n",
    "    #定义变量\n",
    "    x = {}\n",
    "    for i in range(NFAMILY):\n",
    "        for j in desired[i,:]:\n",
    "            candidates.setdefault(j,[])\n",
    "            candidates[j].append(i) \n",
    "            #定义变量x[i,j],i代表family_id,j代表 第j天参观\n",
    "            x[i,j] = solver.BoolVar(\"x[%i,%i]\"%(i,j))\n",
    "    #统计每天来的人数\n",
    "    daily_people = [solver.Sum([family_size[i] *x[i,j] for i in candidates[j]]) for j in range(NDAY)]\n",
    "    #print(daily_people[0])\n",
    "    #每个家庭在10个choice出现的情况\n",
    "    family_presence = [solver.Sum(x[i,j] for j in desired[i,:]) for i in range(NFAMILY)]   \n",
    "    #print(family_presence[1221])\n",
    "    #定义目标函数\n",
    "    #pcost\n",
    "    preference_cost = solver.Sum([pcost_mat[i,j] * x[i,j] for i in range(NFAMILY) for j in desired[i,:]])     \n",
    "    \n",
    "    #最小化preference_cost                                  \n",
    "    solver.Minimize(preference_cost)\n",
    "    #设置约束条件\n",
    "    #前后两天人数差不能超过25人\n",
    "    for i in range(NDAY-1):\n",
    "        solver.Add(daily_people[i +1] - daily_people[i] <= 25)\n",
    "        solver.Add(daily_people[i] -daily_people[i+1] <=25)        \n",
    "    #每个家庭仅能出现一个choice\n",
    "    for i in range(NFAMILY):\n",
    "        solver.Add(family_presence[i] == 1)\n",
    "    #每天的承载不小于MINPEOPLE\n",
    "    for j in range(NDAY):\n",
    "        solver.Add(daily_people[j] >= MINPEOPLE)\n",
    "        #每天的承载不大于MAXPEOPLE\n",
    "        solver.Add(daily_people[j] <= MAXPEOPLE)\n",
    "    #求解\n",
    "    answer = solver.Solve()\n",
    "    print(\"是否有解：\",answer == solver.OPTIMAL)\n",
    "    #查看求解结果\n",
    "    temp = [(i,j,x[i,j].solution_value()) for i in range(NFAMILY) for j in desired[i,:] if x[i,j].solution_value() >0]\n",
    "    result = pd.DataFrame(temp,columns=[\"family_id\",\"days\",'result'])       \n",
    "    return result"
   ]
  },
  {
   "cell_type": "code",
   "execution_count": 10,
   "metadata": {},
   "outputs": [
    {
     "name": "stdout",
     "output_type": "stream",
     "text": [
      "是否有解： True\n",
      "Wall time: 29.2 s\n"
     ]
    },
    {
     "data": {
      "text/html": [
       "<div>\n",
       "<style scoped>\n",
       "    .dataframe tbody tr th:only-of-type {\n",
       "        vertical-align: middle;\n",
       "    }\n",
       "\n",
       "    .dataframe tbody tr th {\n",
       "        vertical-align: top;\n",
       "    }\n",
       "\n",
       "    .dataframe thead th {\n",
       "        text-align: right;\n",
       "    }\n",
       "</style>\n",
       "<table border=\"1\" class=\"dataframe\">\n",
       "  <thead>\n",
       "    <tr style=\"text-align: right;\">\n",
       "      <th></th>\n",
       "      <th>family_id</th>\n",
       "      <th>days</th>\n",
       "      <th>result</th>\n",
       "    </tr>\n",
       "  </thead>\n",
       "  <tbody>\n",
       "    <tr>\n",
       "      <th>0</th>\n",
       "      <td>0</td>\n",
       "      <td>51</td>\n",
       "      <td>1.0</td>\n",
       "    </tr>\n",
       "    <tr>\n",
       "      <th>1</th>\n",
       "      <td>1</td>\n",
       "      <td>25</td>\n",
       "      <td>1.0</td>\n",
       "    </tr>\n",
       "    <tr>\n",
       "      <th>2</th>\n",
       "      <td>2</td>\n",
       "      <td>99</td>\n",
       "      <td>1.0</td>\n",
       "    </tr>\n",
       "    <tr>\n",
       "      <th>3</th>\n",
       "      <td>3</td>\n",
       "      <td>1</td>\n",
       "      <td>1.0</td>\n",
       "    </tr>\n",
       "    <tr>\n",
       "      <th>4</th>\n",
       "      <td>4</td>\n",
       "      <td>52</td>\n",
       "      <td>1.0</td>\n",
       "    </tr>\n",
       "    <tr>\n",
       "      <th>...</th>\n",
       "      <td>...</td>\n",
       "      <td>...</td>\n",
       "      <td>...</td>\n",
       "    </tr>\n",
       "    <tr>\n",
       "      <th>5074</th>\n",
       "      <td>4995</td>\n",
       "      <td>15</td>\n",
       "      <td>1.0</td>\n",
       "    </tr>\n",
       "    <tr>\n",
       "      <th>5075</th>\n",
       "      <td>4996</td>\n",
       "      <td>87</td>\n",
       "      <td>1.0</td>\n",
       "    </tr>\n",
       "    <tr>\n",
       "      <th>5076</th>\n",
       "      <td>4997</td>\n",
       "      <td>31</td>\n",
       "      <td>1.0</td>\n",
       "    </tr>\n",
       "    <tr>\n",
       "      <th>5077</th>\n",
       "      <td>4998</td>\n",
       "      <td>91</td>\n",
       "      <td>1.0</td>\n",
       "    </tr>\n",
       "    <tr>\n",
       "      <th>5078</th>\n",
       "      <td>4999</td>\n",
       "      <td>12</td>\n",
       "      <td>1.0</td>\n",
       "    </tr>\n",
       "  </tbody>\n",
       "</table>\n",
       "<p>5079 rows × 3 columns</p>\n",
       "</div>"
      ],
      "text/plain": [
       "      family_id  days  result\n",
       "0             0    51     1.0\n",
       "1             1    25     1.0\n",
       "2             2    99     1.0\n",
       "3             3     1     1.0\n",
       "4             4    52     1.0\n",
       "...         ...   ...     ...\n",
       "5074       4995    15     1.0\n",
       "5075       4996    87     1.0\n",
       "5076       4997    31     1.0\n",
       "5077       4998    91     1.0\n",
       "5078       4999    12     1.0\n",
       "\n",
       "[5079 rows x 3 columns]"
      ]
     },
     "execution_count": 10,
     "metadata": {},
     "output_type": "execute_result"
    }
   ],
   "source": [
    "%%time\n",
    "result = solveLP()\n",
    "result"
   ]
  },
  {
   "cell_type": "code",
   "execution_count": 11,
   "metadata": {},
   "outputs": [],
   "source": [
    "# print(result[\"family_id\"].value_counts())"
   ]
  },
  {
   "cell_type": "code",
   "execution_count": 12,
   "metadata": {},
   "outputs": [
    {
     "data": {
      "text/html": [
       "<div>\n",
       "<style scoped>\n",
       "    .dataframe tbody tr th:only-of-type {\n",
       "        vertical-align: middle;\n",
       "    }\n",
       "\n",
       "    .dataframe tbody tr th {\n",
       "        vertical-align: top;\n",
       "    }\n",
       "\n",
       "    .dataframe thead th {\n",
       "        text-align: right;\n",
       "    }\n",
       "</style>\n",
       "<table border=\"1\" class=\"dataframe\">\n",
       "  <thead>\n",
       "    <tr style=\"text-align: right;\">\n",
       "      <th></th>\n",
       "      <th>family_id</th>\n",
       "      <th>days</th>\n",
       "      <th>result</th>\n",
       "    </tr>\n",
       "  </thead>\n",
       "  <tbody>\n",
       "    <tr>\n",
       "      <th>0</th>\n",
       "      <td>0</td>\n",
       "      <td>51</td>\n",
       "      <td>1.0</td>\n",
       "    </tr>\n",
       "    <tr>\n",
       "      <th>1</th>\n",
       "      <td>1</td>\n",
       "      <td>25</td>\n",
       "      <td>1.0</td>\n",
       "    </tr>\n",
       "    <tr>\n",
       "      <th>2</th>\n",
       "      <td>2</td>\n",
       "      <td>99</td>\n",
       "      <td>1.0</td>\n",
       "    </tr>\n",
       "    <tr>\n",
       "      <th>3</th>\n",
       "      <td>3</td>\n",
       "      <td>1</td>\n",
       "      <td>1.0</td>\n",
       "    </tr>\n",
       "    <tr>\n",
       "      <th>4</th>\n",
       "      <td>4</td>\n",
       "      <td>52</td>\n",
       "      <td>1.0</td>\n",
       "    </tr>\n",
       "    <tr>\n",
       "      <th>...</th>\n",
       "      <td>...</td>\n",
       "      <td>...</td>\n",
       "      <td>...</td>\n",
       "    </tr>\n",
       "    <tr>\n",
       "      <th>5074</th>\n",
       "      <td>4995</td>\n",
       "      <td>15</td>\n",
       "      <td>1.0</td>\n",
       "    </tr>\n",
       "    <tr>\n",
       "      <th>5075</th>\n",
       "      <td>4996</td>\n",
       "      <td>87</td>\n",
       "      <td>1.0</td>\n",
       "    </tr>\n",
       "    <tr>\n",
       "      <th>5076</th>\n",
       "      <td>4997</td>\n",
       "      <td>31</td>\n",
       "      <td>1.0</td>\n",
       "    </tr>\n",
       "    <tr>\n",
       "      <th>5077</th>\n",
       "      <td>4998</td>\n",
       "      <td>91</td>\n",
       "      <td>1.0</td>\n",
       "    </tr>\n",
       "    <tr>\n",
       "      <th>5078</th>\n",
       "      <td>4999</td>\n",
       "      <td>12</td>\n",
       "      <td>1.0</td>\n",
       "    </tr>\n",
       "  </tbody>\n",
       "</table>\n",
       "<p>4932 rows × 3 columns</p>\n",
       "</div>"
      ],
      "text/plain": [
       "      family_id  days  result\n",
       "0             0    51     1.0\n",
       "1             1    25     1.0\n",
       "2             2    99     1.0\n",
       "3             3     1     1.0\n",
       "4             4    52     1.0\n",
       "...         ...   ...     ...\n",
       "5074       4995    15     1.0\n",
       "5075       4996    87     1.0\n",
       "5076       4997    31     1.0\n",
       "5077       4998    91     1.0\n",
       "5078       4999    12     1.0\n",
       "\n",
       "[4932 rows x 3 columns]"
      ]
     },
     "execution_count": 12,
     "metadata": {},
     "output_type": "execute_result"
    }
   ],
   "source": [
    "#设置阈值，找到已安排的家庭\n",
    "threshold = 0.99\n",
    "assigned_df = result[result.result > 0.99].copy()\n",
    "assigned_df"
   ]
  },
  {
   "cell_type": "code",
   "execution_count": 13,
   "metadata": {},
   "outputs": [
    {
     "name": "stdout",
     "output_type": "stream",
     "text": [
      "没有安排的家庭数： 68\n"
     ]
    },
    {
     "data": {
      "text/plain": [
       "array([  59,  240,  357,  476,  488,  500,  610,  724,  805,  926,  941,\n",
       "        961,  965, 1012, 1106, 1176, 1218, 1235, 1387, 1444, 1484, 1536,\n",
       "       1610, 1611, 1653, 1720, 1905, 1977, 2004, 2101, 2135, 2229, 2318,\n",
       "       2344, 2353, 2395, 2641, 2778, 2862, 2874, 3033, 3104, 3118, 3228,\n",
       "       3278, 3280, 3348, 3470, 3504, 3642, 3649, 3786, 4045, 4077, 4084,\n",
       "       4404, 4421, 4431, 4471, 4518, 4628, 4820, 4850, 4869, 4886, 4912,\n",
       "       4914, 4961], dtype=int64)"
      ]
     },
     "execution_count": 13,
     "metadata": {},
     "output_type": "execute_result"
    }
   ],
   "source": [
    "#没有安排的家庭\n",
    "unassigned_df = result[(result.result <= threshold) & (result.result >= 1- threshold)]\n",
    "unassigned_df = unassigned_df[\"family_id\"].unique()\n",
    "print(\"没有安排的家庭数：\",len(unassigned_df))\n",
    "unassigned_df"
   ]
  },
  {
   "cell_type": "markdown",
   "metadata": {},
   "source": [
    "## 对剩余未安排的家庭进行安排"
   ]
  },
  {
   "cell_type": "code",
   "execution_count": 14,
   "metadata": {},
   "outputs": [
    {
     "data": {
      "text/html": [
       "<div>\n",
       "<style scoped>\n",
       "    .dataframe tbody tr th:only-of-type {\n",
       "        vertical-align: middle;\n",
       "    }\n",
       "\n",
       "    .dataframe tbody tr th {\n",
       "        vertical-align: top;\n",
       "    }\n",
       "\n",
       "    .dataframe thead th {\n",
       "        text-align: right;\n",
       "    }\n",
       "</style>\n",
       "<table border=\"1\" class=\"dataframe\">\n",
       "  <thead>\n",
       "    <tr style=\"text-align: right;\">\n",
       "      <th></th>\n",
       "      <th>family_id</th>\n",
       "      <th>days</th>\n",
       "      <th>result</th>\n",
       "      <th>family_size</th>\n",
       "    </tr>\n",
       "  </thead>\n",
       "  <tbody>\n",
       "    <tr>\n",
       "      <th>0</th>\n",
       "      <td>0</td>\n",
       "      <td>51</td>\n",
       "      <td>1.0</td>\n",
       "      <td>4</td>\n",
       "    </tr>\n",
       "    <tr>\n",
       "      <th>1</th>\n",
       "      <td>1</td>\n",
       "      <td>25</td>\n",
       "      <td>1.0</td>\n",
       "      <td>4</td>\n",
       "    </tr>\n",
       "    <tr>\n",
       "      <th>2</th>\n",
       "      <td>2</td>\n",
       "      <td>99</td>\n",
       "      <td>1.0</td>\n",
       "      <td>3</td>\n",
       "    </tr>\n",
       "    <tr>\n",
       "      <th>3</th>\n",
       "      <td>3</td>\n",
       "      <td>1</td>\n",
       "      <td>1.0</td>\n",
       "      <td>2</td>\n",
       "    </tr>\n",
       "    <tr>\n",
       "      <th>4</th>\n",
       "      <td>4</td>\n",
       "      <td>52</td>\n",
       "      <td>1.0</td>\n",
       "      <td>4</td>\n",
       "    </tr>\n",
       "    <tr>\n",
       "      <th>...</th>\n",
       "      <td>...</td>\n",
       "      <td>...</td>\n",
       "      <td>...</td>\n",
       "      <td>...</td>\n",
       "    </tr>\n",
       "    <tr>\n",
       "      <th>5074</th>\n",
       "      <td>4995</td>\n",
       "      <td>15</td>\n",
       "      <td>1.0</td>\n",
       "      <td>4</td>\n",
       "    </tr>\n",
       "    <tr>\n",
       "      <th>5075</th>\n",
       "      <td>4996</td>\n",
       "      <td>87</td>\n",
       "      <td>1.0</td>\n",
       "      <td>2</td>\n",
       "    </tr>\n",
       "    <tr>\n",
       "      <th>5076</th>\n",
       "      <td>4997</td>\n",
       "      <td>31</td>\n",
       "      <td>1.0</td>\n",
       "      <td>6</td>\n",
       "    </tr>\n",
       "    <tr>\n",
       "      <th>5077</th>\n",
       "      <td>4998</td>\n",
       "      <td>91</td>\n",
       "      <td>1.0</td>\n",
       "      <td>5</td>\n",
       "    </tr>\n",
       "    <tr>\n",
       "      <th>5078</th>\n",
       "      <td>4999</td>\n",
       "      <td>12</td>\n",
       "      <td>1.0</td>\n",
       "      <td>4</td>\n",
       "    </tr>\n",
       "  </tbody>\n",
       "</table>\n",
       "<p>4932 rows × 4 columns</p>\n",
       "</div>"
      ],
      "text/plain": [
       "      family_id  days  result  family_size\n",
       "0             0    51     1.0            4\n",
       "1             1    25     1.0            4\n",
       "2             2    99     1.0            3\n",
       "3             3     1     1.0            2\n",
       "4             4    52     1.0            4\n",
       "...         ...   ...     ...          ...\n",
       "5074       4995    15     1.0            4\n",
       "5075       4996    87     1.0            2\n",
       "5076       4997    31     1.0            6\n",
       "5077       4998    91     1.0            5\n",
       "5078       4999    12     1.0            4\n",
       "\n",
       "[4932 rows x 4 columns]"
      ]
     },
     "execution_count": 14,
     "metadata": {},
     "output_type": "execute_result"
    }
   ],
   "source": [
    "#计算每天已安排的人数\n",
    "assigned_df[\"family_size\"] = family_size[assigned_df[\"family_id\"]]\n",
    "assigned_df"
   ]
  },
  {
   "cell_type": "code",
   "execution_count": 15,
   "metadata": {},
   "outputs": [
    {
     "data": {
      "text/plain": [
       "array([290, 271, 294, 299, 263, 242, 223, 247, 273, 297, 288, 292, 275,\n",
       "       250, 245, 272, 292, 292, 271, 248, 223, 244, 264, 291, 292, 296,\n",
       "       273, 249, 234, 251, 278, 283, 252, 235, 205, 184, 202, 233, 253,\n",
       "       226, 210, 183, 204, 229, 247, 281, 256, 223, 204, 198, 222, 248,\n",
       "       256, 220, 208, 185, 173, 196, 219, 198, 174, 141, 124, 121, 149,\n",
       "       170, 178, 158, 136, 123, 125, 135, 158, 185, 158, 135, 121, 125,\n",
       "       142, 167, 186, 167, 138, 120, 128, 155, 174, 203, 177, 152, 130,\n",
       "       122, 130, 158, 183, 158, 128, 125, 122, 124], dtype=int64)"
      ]
     },
     "execution_count": 15,
     "metadata": {},
     "output_type": "execute_result"
    }
   ],
   "source": [
    "#按照天进行聚合\n",
    "occupancy = assigned_df.groupby(\"days\").family_size.sum().values\n",
    "occupancy"
   ]
  },
  {
   "cell_type": "code",
   "execution_count": 16,
   "metadata": {},
   "outputs": [
    {
     "data": {
      "text/plain": [
       "array([0, 0, 0, 0, 0, 0, 0, 0, 0, 0, 0, 0, 0, 0, 0, 0, 0, 0, 0, 0, 0, 0,\n",
       "       0, 0, 0, 0, 0, 0, 0, 0, 0, 0, 0, 0, 0, 0, 0, 0, 0, 0, 0, 0, 0, 0,\n",
       "       0, 0, 0, 0, 0, 0, 0, 0, 0, 0, 0, 0, 0, 0, 0, 0, 0, 0, 1, 4, 0, 0,\n",
       "       0, 0, 0, 2, 0, 0, 0, 0, 0, 0, 4, 0, 0, 0, 0, 0, 0, 5, 0, 0, 0, 0,\n",
       "       0, 0, 0, 3, 0, 0, 0, 0, 0, 0, 3, 1], dtype=int64)"
      ]
     },
     "execution_count": 16,
     "metadata": {},
     "output_type": "execute_result"
    }
   ],
   "source": [
    "#更新可安排容量的限值\n",
    "min_occupancy = np.array([max(0,MINPEOPLE - o) for o in occupancy])\n",
    "min_occupancy"
   ]
  },
  {
   "cell_type": "code",
   "execution_count": 17,
   "metadata": {},
   "outputs": [
    {
     "data": {
      "text/plain": [
       "array([ 10,  29,   6,   1,  37,  58,  77,  53,  27,   3,  12,   8,  25,\n",
       "        50,  55,  28,   8,   8,  29,  52,  77,  56,  36,   9,   8,   4,\n",
       "        27,  51,  66,  49,  22,  17,  48,  65,  95, 116,  98,  67,  47,\n",
       "        74,  90, 117,  96,  71,  53,  19,  44,  77,  96, 102,  78,  52,\n",
       "        44,  80,  92, 115, 127, 104,  81, 102, 126, 159, 176, 179, 151,\n",
       "       130, 122, 142, 164, 177, 175, 165, 142, 115, 142, 165, 179, 175,\n",
       "       158, 133, 114, 133, 162, 180, 172, 145, 126,  97, 123, 148, 170,\n",
       "       178, 170, 142, 117, 142, 172, 175, 178, 176], dtype=int64)"
      ]
     },
     "execution_count": 17,
     "metadata": {},
     "output_type": "execute_result"
    }
   ],
   "source": [
    "max_occupancy = np.array([MAXPEOPLE - o for o in occupancy])\n",
    "max_occupancy\n",
    "max_occupancy"
   ]
  },
  {
   "cell_type": "code",
   "execution_count": 18,
   "metadata": {},
   "outputs": [],
   "source": [
    "#求解整数规划\n",
    "def solveILP():\n",
    "    #创建求解器\n",
    "    solver = pywraplp.Solver(\"santa\",pywraplp.Solver.CBC_MIXED_INTEGER_PROGRAMMING)\n",
    "    #需要安排家庭\n",
    "    n_family = unassigned_df    \n",
    "    #设置变量x,家庭i在j天是否参观\n",
    "    x = {}\n",
    "    #0-99天，每天都有哪些家庭的choice\n",
    "    candidates =  dict() #100天，每天的家庭id    \n",
    "    for i in n_family:\n",
    "        for j in range(NDAY):\n",
    "            candidates.setdefault(j,[])\n",
    "            candidates[j].append(i)\n",
    "            #定义变量x[i,j],i代表familyid,j代表参观的天数\n",
    "            x[i,j] = solver.BoolVar(\"x[%i,%i]\"%(i,j))\n",
    "            \n",
    "    #统计每天实际来的人数,0-100天    \n",
    "    daily_people = [solver.Sum([family_size[i] *x[i,j] for i in candidates[j]]) for j in range(NDAY)]\n",
    "    #每个家庭每天出现的情况\n",
    "    family_presence = [solver.Sum([x[i,j] for j in desired[i,:]]) for i in n_family]  \n",
    "    \n",
    "    #定义目标函数\n",
    "    #pcost\n",
    "    preference_cost = solver.Sum([pcost_mat[i,j]*x[i,j] for i in n_family for j in desired[i,:]])    \n",
    "    #最小化pcost\n",
    "    solver.Minimize(preference_cost)\n",
    "    \n",
    "    #设置约束条件：\n",
    "    #每个家庭仅在10个choice中出现一次\n",
    "    for family in family_presence:\n",
    "        solver.Add(family == 1)\n",
    "    #每天运载能力的约束\n",
    "    for j in range(NDAY):\n",
    "        solver.Add(daily_people[j] >= min_occupancy[j])\n",
    "        solver.Add(daily_people[j] <= max_occupancy[j])\n",
    "    #求解\n",
    "    result = solver.Solve()    \n",
    "    \n",
    "    temp = [(i,j) for i in n_family for j in desired[i,:] if x[i,j].solution_value() > 0]\n",
    "    df = pd.DataFrame(temp,columns = [\"family_id\",\"days\"])    \n",
    "    return df        "
   ]
  },
  {
   "cell_type": "code",
   "execution_count": 19,
   "metadata": {},
   "outputs": [],
   "source": [
    "assigned_df2 = solveILP()"
   ]
  },
  {
   "cell_type": "code",
   "execution_count": 20,
   "metadata": {},
   "outputs": [
    {
     "data": {
      "text/html": [
       "<div>\n",
       "<style scoped>\n",
       "    .dataframe tbody tr th:only-of-type {\n",
       "        vertical-align: middle;\n",
       "    }\n",
       "\n",
       "    .dataframe tbody tr th {\n",
       "        vertical-align: top;\n",
       "    }\n",
       "\n",
       "    .dataframe thead th {\n",
       "        text-align: right;\n",
       "    }\n",
       "</style>\n",
       "<table border=\"1\" class=\"dataframe\">\n",
       "  <thead>\n",
       "    <tr style=\"text-align: right;\">\n",
       "      <th></th>\n",
       "      <th>family_id</th>\n",
       "      <th>days</th>\n",
       "    </tr>\n",
       "  </thead>\n",
       "  <tbody>\n",
       "    <tr>\n",
       "      <th>0</th>\n",
       "      <td>0</td>\n",
       "      <td>51</td>\n",
       "    </tr>\n",
       "    <tr>\n",
       "      <th>1</th>\n",
       "      <td>1</td>\n",
       "      <td>25</td>\n",
       "    </tr>\n",
       "    <tr>\n",
       "      <th>2</th>\n",
       "      <td>2</td>\n",
       "      <td>99</td>\n",
       "    </tr>\n",
       "    <tr>\n",
       "      <th>3</th>\n",
       "      <td>3</td>\n",
       "      <td>1</td>\n",
       "    </tr>\n",
       "    <tr>\n",
       "      <th>4</th>\n",
       "      <td>4</td>\n",
       "      <td>52</td>\n",
       "    </tr>\n",
       "    <tr>\n",
       "      <th>...</th>\n",
       "      <td>...</td>\n",
       "      <td>...</td>\n",
       "    </tr>\n",
       "    <tr>\n",
       "      <th>5074</th>\n",
       "      <td>4995</td>\n",
       "      <td>15</td>\n",
       "    </tr>\n",
       "    <tr>\n",
       "      <th>5075</th>\n",
       "      <td>4996</td>\n",
       "      <td>87</td>\n",
       "    </tr>\n",
       "    <tr>\n",
       "      <th>5076</th>\n",
       "      <td>4997</td>\n",
       "      <td>31</td>\n",
       "    </tr>\n",
       "    <tr>\n",
       "      <th>5077</th>\n",
       "      <td>4998</td>\n",
       "      <td>91</td>\n",
       "    </tr>\n",
       "    <tr>\n",
       "      <th>5078</th>\n",
       "      <td>4999</td>\n",
       "      <td>12</td>\n",
       "    </tr>\n",
       "  </tbody>\n",
       "</table>\n",
       "<p>5000 rows × 2 columns</p>\n",
       "</div>"
      ],
      "text/plain": [
       "      family_id  days\n",
       "0             0    51\n",
       "1             1    25\n",
       "2             2    99\n",
       "3             3     1\n",
       "4             4    52\n",
       "...         ...   ...\n",
       "5074       4995    15\n",
       "5075       4996    87\n",
       "5076       4997    31\n",
       "5077       4998    91\n",
       "5078       4999    12\n",
       "\n",
       "[5000 rows x 2 columns]"
      ]
     },
     "execution_count": 20,
     "metadata": {},
     "output_type": "execute_result"
    }
   ],
   "source": [
    "#合并求解数据\n",
    "df = pd.concat((assigned_df[[\"family_id\",\"days\"]],assigned_df2)).sort_values(\"family_id\")\n",
    "df"
   ]
  },
  {
   "cell_type": "markdown",
   "metadata": {},
   "source": [
    "## 结果评估"
   ]
  },
  {
   "cell_type": "code",
   "execution_count": 21,
   "metadata": {},
   "outputs": [],
   "source": [
    "@njit(fastmath =True)\n",
    "#得到pcost及每天访问人数\n",
    "def pcost(prediction):\n",
    "    daily_occupancy = np.zeros(NDAY +1,dtype = np.int64)\n",
    "    pcosts = 0\n",
    "    #i家庭id,p拜访的日期\n",
    "    for i,p in enumerate(prediction):\n",
    "        #得到家庭人数\n",
    "        n = family_size[i]\n",
    "        #第i个家庭p天的cost\n",
    "        pcosts += pcost_mat[i,p]\n",
    "        #更新第p天参观的人数\n",
    "        daily_occupancy[p] += n\n",
    "    return pcosts,daily_occupancy        "
   ]
  },
  {
   "cell_type": "code",
   "execution_count": 22,
   "metadata": {},
   "outputs": [],
   "source": [
    "@njit(fastmath = True)\n",
    "#根据daily_occupancy计算acost\n",
    "def acost(daily_occupancy):\n",
    "    acosts = 0\n",
    "    check_out_range = 0\n",
    "    for i in range(NDAY):\n",
    "        n = daily_occupancy[i]  \n",
    "        #print(n)\n",
    "        n_p1 = daily_occupancy[i +1]\n",
    "        check_out_range += (n>MAXPEOPLE)\n",
    "        if n > MAXPEOPLE:\n",
    "            n = MAXPEOPLE\n",
    "        if n_p1 > MAXPEOPLE:\n",
    "            n_p1 = MAXPEOPLE\n",
    "        acosts += acost_mat[n,n_p1]\n",
    "    return acosts,check_out_range"
   ]
  },
  {
   "cell_type": "code",
   "execution_count": 23,
   "metadata": {},
   "outputs": [],
   "source": [
    "@njit(fastmath =True)\n",
    "#计算pcost + acost\n",
    "def cost_function(prediction):\n",
    "    pcosts,daily_occupancy = pcost(prediction)\n",
    "    acosts,check_out_range = acost(daily_occupancy)\n",
    "    return pcosts + acosts +check_out_range * 999999"
   ]
  },
  {
   "cell_type": "code",
   "execution_count": 24,
   "metadata": {},
   "outputs": [
    {
     "data": {
      "text/plain": [
       "77017.6638501142"
      ]
     },
     "execution_count": 24,
     "metadata": {},
     "output_type": "execute_result"
    }
   ],
   "source": [
    "prediction = df[\"days\"].values\n",
    "prediction\n",
    "#计算cost\n",
    "cost = cost_function(prediction)\n",
    "cost"
   ]
  },
  {
   "cell_type": "code",
   "execution_count": 25,
   "metadata": {},
   "outputs": [],
   "source": [
    "def save_result(pred,filename):\n",
    "    result = pd.DataFrame(range(NFAMILY),columns = [\"family_id\"])\n",
    "    result[\"assigned_day\"] = pred + 1\n",
    "    result.to_csv(filename,index = False)\n",
    "    print(filename + \" saved\")"
   ]
  },
  {
   "cell_type": "code",
   "execution_count": 26,
   "metadata": {},
   "outputs": [
    {
     "name": "stdout",
     "output_type": "stream",
     "text": [
      "submision1.csv saved\n"
     ]
    }
   ],
   "source": [
    "save_result(prediction,\"submision1.csv\")"
   ]
  },
  {
   "cell_type": "markdown",
   "metadata": {},
   "source": [
    "## 优化方案"
   ]
  },
  {
   "cell_type": "code",
   "execution_count": 27,
   "metadata": {},
   "outputs": [],
   "source": [
    "#@njit(fastmath = True)\n",
    "def find_better(pred):\n",
    "    #计算现有方案得分\n",
    "    score = cost_function(pred)\n",
    "    #按家庭人数从小到大排序下标\n",
    "    fobs = np.argsort(family_size)\n",
    "    #print(fobs)\n",
    "    #初始原始得分\n",
    "    origin_score = np.inf\n",
    "    \n",
    "    #替换选择，查找更优方案\n",
    "    while score < origin_score:\n",
    "        origin_score = score\n",
    "        for family_id in fobs:\n",
    "            for choice in range(10):\n",
    "                newday = desired[family_id,choice]\n",
    "                oldday = pred[family_id]\n",
    "                #将原安排日期替换为新日期\n",
    "                pred[family_id] = newday\n",
    "                new_score = cost_function(pred)\n",
    "                #如果小于原分数，更新choice成功\n",
    "                if new_score < score:\n",
    "                    score = new_score\n",
    "                else:\n",
    "                    pred[family_id] = oldday\n",
    "        print(score,end = \"\\r\")\n",
    "    print(score)    "
   ]
  },
  {
   "cell_type": "code",
   "execution_count": 28,
   "metadata": {},
   "outputs": [
    {
     "name": "stdout",
     "output_type": "stream",
     "text": [
      "66215.91277134576\n"
     ]
    }
   ],
   "source": [
    "new = prediction.copy()\n",
    "find_better(new)"
   ]
  },
  {
   "cell_type": "code",
   "execution_count": 29,
   "metadata": {},
   "outputs": [
    {
     "name": "stdout",
     "output_type": "stream",
     "text": [
      "66215.91277134576\n",
      "submission.csv saved\n"
     ]
    }
   ],
   "source": [
    "new_cost = cost_function(new)\n",
    "print(new_cost)\n",
    "save_result(new,\"submission.csv\")"
   ]
  }
 ],
 "metadata": {
  "kernelspec": {
   "display_name": "Python 3",
   "language": "python",
   "name": "python3"
  },
  "language_info": {
   "codemirror_mode": {
    "name": "ipython",
    "version": 3
   },
   "file_extension": ".py",
   "mimetype": "text/x-python",
   "name": "python",
   "nbconvert_exporter": "python",
   "pygments_lexer": "ipython3",
   "version": "3.7.3"
  }
 },
 "nbformat": 4,
 "nbformat_minor": 2
}
