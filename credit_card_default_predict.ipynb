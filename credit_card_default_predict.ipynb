{
 "cells": [
  {
   "cell_type": "code",
   "execution_count": 1,
   "metadata": {},
   "outputs": [],
   "source": [
    "import pandas as pd\n",
    "import numpy as np\n",
    "import matplotlib.pyplot as plt\n",
    "import seaborn as sns\n",
    "from  sklearn.model_selection import train_test_split,GridSearchCV\n",
    "from sklearn.pipeline import Pipeline\n",
    "from sklearn.svm import SVC\n",
    "from sklearn.tree import DecisionTreeClassifier\n",
    "from sklearn.ensemble import RandomForestClassifier\n",
    "from sklearn.neighbors import KNeighborsClassifier\n",
    "from sklearn.metrics import accuracy_score\n",
    "from sklearn.preprocessing import StandardScaler"
   ]
  },
  {
   "cell_type": "code",
   "execution_count": 2,
   "metadata": {},
   "outputs": [],
   "source": [
    "\"\"\"\n",
    "信用卡违约率检测\n",
    "https://www.kaggle.com/uciml/default-of-credit-card-clients-dataset\n",
    "对信用卡使用数据进行建模，预测用户是否下个月产生违约\n",
    "可使用GridSearchCV工具，找到每个分类器的最优参数和最优分数，\n",
    "最终找到最适合数据集的分类器和此分类器的参数\n",
    "\"\"\"\n",
    "# 加载数据\n",
    "data = pd.read_csv('./UCI_Credit_Card.csv')"
   ]
  },
  {
   "cell_type": "code",
   "execution_count": 3,
   "metadata": {},
   "outputs": [
    {
     "name": "stdout",
     "output_type": "stream",
     "text": [
      "   ID  LIMIT_BAL  SEX  EDUCATION  MARRIAGE  AGE  PAY_0  PAY_2  PAY_3  PAY_4  \\\n",
      "0   1    20000.0    2          2         1   24      2      2     -1     -1   \n",
      "1   2   120000.0    2          2         2   26     -1      2      0      0   \n",
      "2   3    90000.0    2          2         2   34      0      0      0      0   \n",
      "3   4    50000.0    2          2         1   37      0      0      0      0   \n",
      "4   5    50000.0    1          2         1   57     -1      0     -1      0   \n",
      "\n",
      "   ...  BILL_AMT4  BILL_AMT5  BILL_AMT6  PAY_AMT1  PAY_AMT2  PAY_AMT3  \\\n",
      "0  ...        0.0        0.0        0.0       0.0     689.0       0.0   \n",
      "1  ...     3272.0     3455.0     3261.0       0.0    1000.0    1000.0   \n",
      "2  ...    14331.0    14948.0    15549.0    1518.0    1500.0    1000.0   \n",
      "3  ...    28314.0    28959.0    29547.0    2000.0    2019.0    1200.0   \n",
      "4  ...    20940.0    19146.0    19131.0    2000.0   36681.0   10000.0   \n",
      "\n",
      "   PAY_AMT4  PAY_AMT5  PAY_AMT6  default.payment.next.month  \n",
      "0       0.0       0.0       0.0                           1  \n",
      "1    1000.0       0.0    2000.0                           1  \n",
      "2    1000.0    1000.0    5000.0                           0  \n",
      "3    1100.0    1069.0    1000.0                           0  \n",
      "4    9000.0     689.0     679.0                           0  \n",
      "\n",
      "[5 rows x 25 columns]\n",
      "(30000, 25)\n",
      "Index(['ID', 'LIMIT_BAL', 'SEX', 'EDUCATION', 'MARRIAGE', 'AGE', 'PAY_0',\n",
      "       'PAY_2', 'PAY_3', 'PAY_4', 'PAY_5', 'PAY_6', 'BILL_AMT1', 'BILL_AMT2',\n",
      "       'BILL_AMT3', 'BILL_AMT4', 'BILL_AMT5', 'BILL_AMT6', 'PAY_AMT1',\n",
      "       'PAY_AMT2', 'PAY_AMT3', 'PAY_AMT4', 'PAY_AMT5', 'PAY_AMT6',\n",
      "       'default.payment.next.month'],\n",
      "      dtype='object')\n"
     ]
    }
   ],
   "source": [
    "#查看数据\n",
    "print(data.head())\n",
    "print(data.shape)\n",
    "print(data.columns)"
   ]
  },
  {
   "cell_type": "code",
   "execution_count": 4,
   "metadata": {},
   "outputs": [
    {
     "name": "stdout",
     "output_type": "stream",
     "text": [
      "0    23364\n",
      "1     6636\n",
      "Name: default.payment.next.month, dtype: int64\n"
     ]
    }
   ],
   "source": [
    "# 查看下一个月违约情况\n",
    "next_month = data['default.payment.next.month'].value_counts()\n",
    "print(next_month)"
   ]
  },
  {
   "cell_type": "code",
   "execution_count": 5,
   "metadata": {},
   "outputs": [
    {
     "data": {
      "image/png": "[encoded data removed]",
      "text/plain": [
       "<Figure size 432x288 with 1 Axes>"
      ]
     },
     "metadata": {
      "needs_background": "light"
     },
     "output_type": "display_data"
    }
   ],
   "source": [
    "#可视化标签\n",
    "df = pd.DataFrame({'default.payment.next.month' : next_month.index,'values' : next_month.values})\n",
    "\n",
    "plt.title('Default Analysis')\n",
    "sns.barplot(x = 'default.payment.next.month',y = 'values',data = df)\n",
    "plt.show()"
   ]
  },
  {
   "cell_type": "code",
   "execution_count": 6,
   "metadata": {},
   "outputs": [],
   "source": [
    "#数据处理\n",
    "target = data['default.payment.next.month'].values\n",
    "data.drop(['ID','default.payment.next.month'],axis = 1,inplace = True)\n",
    "columns = data.columns.tolist()\n",
    "features = data[columns].values"
   ]
  },
  {
   "cell_type": "code",
   "execution_count": 7,
   "metadata": {},
   "outputs": [],
   "source": [
    "# GridSearchCV\n",
    "def GridSearchCV_work(pipline,train_X,train_y,test_X,test_y,model_param_grid,score = 'accuracy'):\n",
    "    gridsearch = GridSearchCV(estimator = pipline,param_grid = model_param_grid,scoring =score)\n",
    "    #寻找最优参数\n",
    "    search = gridsearch.fit(train_X,train_y)\n",
    "    predict_y = search.predict(test_X)\n",
    "    print('GridSearch最优参数：',search.best_params_)\n",
    "    print('GridSearch最优score:',search.best_score_)\n",
    "    print('准确率 %0.4lf' %accuracy_score(test_y,predict_y))"
   ]
  },
  {
   "cell_type": "code",
   "execution_count": 8,
   "metadata": {},
   "outputs": [
    {
     "name": "stdout",
     "output_type": "stream",
     "text": [
      "GridSearch最优参数： {'svc__C': 1, 'svc__gamma': 0.01}\n",
      "GridSearch最优score: 0.8168095238095239\n",
      "准确率 0.8208\n",
      "GridSearch最优参数： {'decisiontreeclassifier__max_depth': 6}\n",
      "GridSearch最优score: 0.8179047619047619\n",
      "准确率 0.8214\n",
      "GridSearch最优参数： {'randomforestclassifier__n_estimators': 6}\n",
      "GridSearch最优score: 0.7976666666666665\n",
      "准确率 0.7997\n",
      "GridSearch最优参数： {'kneighborsclassifier__n_neighbors': 8}\n",
      "GridSearch最优score: 0.8002380952380953\n",
      "准确率 0.8060\n"
     ]
    }
   ],
   "source": [
    "# 切分数据,70%训练集，30%测试集\n",
    "train_X,test_X,train_y,test_y = train_test_split(features,target,test_size = 0.3)\n",
    "\n",
    "# 构建分类器\n",
    "classifiers = [SVC(),\n",
    "             DecisionTreeClassifier(),\n",
    "             RandomForestClassifier(),\n",
    "             KNeighborsClassifier()]\n",
    "\n",
    "# 分类器名称\n",
    "classifier_names = ['svc','decisiontreeclassifier','randomforestclassifier','kneighborsclassifier']\n",
    "\n",
    "#分类器参数\n",
    "classifier_param_grid = [{'svc__C':[1],'svc__gamma' : [0.01]},\n",
    "                        {'decisiontreeclassifier__max_depth': [6,9,11]},\n",
    "                        {'randomforestclassifier__n_estimators' : [3,5,6]},\n",
    "                        {'kneighborsclassifier__n_neighbors': [4,6,8]} ]\n",
    "\n",
    "for model,model_name,model_param_grid in zip(classifiers,classifier_names,classifier_param_grid):\n",
    "    pipeline = Pipeline([('scaler',StandardScaler()),\n",
    "                        (model_name,model)])    \n",
    "    result = GridSearchCV_work(pipeline,train_X,train_y,test_X,test_y,model_param_grid)"
   ]
  }
 ],
 "metadata": {
  "kernelspec": {
   "display_name": "Python 3",
   "language": "python",
   "name": "python3"
  },
  "language_info": {
   "codemirror_mode": {
    "name": "ipython",
    "version": 3
   },
   "file_extension": ".py",
   "mimetype": "text/x-python",
   "name": "python",
   "nbconvert_exporter": "python",
   "pygments_lexer": "ipython3",
   "version": "3.7.3"
  }
 },
 "nbformat": 4,
 "nbformat_minor": 2
}
