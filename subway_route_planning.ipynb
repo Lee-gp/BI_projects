{
 "cells": [
  {
   "cell_type": "code",
   "execution_count": 1,
   "metadata": {},
   "outputs": [],
   "source": [
    "import pandas as pd\n",
    "import requests,re\n",
    "import pickle"
   ]
  },
  {
   "cell_type": "code",
   "execution_count": 2,
   "metadata": {},
   "outputs": [],
   "source": [
    "# 计算两点间距离\n",
    "def compute_distance(longitude1,latitude1,longitude2,latitude2):\n",
    "    header = {'user_agent':'Mozilla/5.0 (Windows NT 10.0;WOW64) AppleWebKit/537.36 (KHTML, like Gecko) Chrome/74.0.3729.131 Safari/537.36'}\n",
    "    request_url = 'http://restapi.amap.com/v3/distance?key=6c4e7caf822a3add82fdd0a71c4258e9&origins='\\\n",
    "    +str(longitude1) + ',' + str(latitude1) + '&destination=' + str(longitude2) + ',' + str(latitude2) +'&type=1'\n",
    "    data = requests.get(request_url,headers = header,timeout = 100)\n",
    "    data.encoding = 'utf-8'\n",
    "    data = data.text\n",
    "    #\"distance\":\"2646\",\"duration\":\"660\"\n",
    "    pattern = '\"distance\":\"(.*?)\",\"duration\":\"(.*?)\"'\n",
    "    result = re.findall(pattern,data)\n",
    "    #返回距离result[0][0],返回时间result[0][1]\n",
    "    return result[0][0]"
   ]
  },
  {
   "cell_type": "code",
   "execution_count": 3,
   "metadata": {},
   "outputs": [],
   "source": [
    "#通过keyword,city找到指定的location\n",
    "def get_location(keyword,city):\n",
    "    request_url = 'http://restapi.amap.com/v3/place/text?key=6c4e7caf822a3add82fdd0a71c4258e9&keywords='+keyword+'&types=&city='+city+'&children=1&offset=1&page=1&extensions=all'\n",
    "    header = {'user_agent':'Mozilla/5.0 (Windows NT 10.0;WOW64) AppleWebKit/537.36 (KHTML, like Gecko) Chrome/74.0.3729.131 Safari/537.36'}\n",
    "    data = requests.get(request_url,headers = header,timeout = 100)\n",
    "    data.encoding = 'utf-8'\n",
    "    data = data.text    \n",
    "    #.*表示贪婪模式，匹配到不能匹配为止\n",
    "    #.*?取消贪婪，一个匹配后就继续后面的匹配\n",
    "    pattern = '\"location\":\"(.*?),(.*?)\"'\n",
    "    result = re.findall(pattern,data)\n",
    "    try:\n",
    "        return result[0][0],result[0][1]\n",
    "    except:\n",
    "        return get_location(keyword.replace('站',''),city)"
   ]
  },
  {
   "cell_type": "code",
   "execution_count": 4,
   "metadata": {},
   "outputs": [],
   "source": [
    "# 数据加载\n",
    "def load_data():\n",
    "    data = pd.read_csv('./subway.csv',index_col = None)\n",
    "    return data"
   ]
  },
  {
   "cell_type": "code",
   "execution_count": 5,
   "metadata": {},
   "outputs": [],
   "source": [
    "# 计算并保存两点间距离,保存python对象，方便下次调用.如已计算则直接调用\n",
    "def generate_graph():\n",
    "    try:\n",
    "        file = open('graph.pkl','rb')\n",
    "        graph = pickle.load(file)\n",
    "        return graph\n",
    "    except:\n",
    "        from collections import defaultdict\n",
    "        # 创建两点间最短距离\n",
    "        data = load_data()\n",
    "        graph = defaultdict(dict)\n",
    "        for i in range(data.shape[0]-1):\n",
    "            site1 = data.iloc[i]['site']    \n",
    "            site2 = data.iloc[i+1]['site']   \n",
    "            #如果是同一条线路\n",
    "            if site1 == site2:\n",
    "                name1,name2 = data.iloc[i]['name'],data.iloc[i+1]['name']\n",
    "                longitude1,latitude1 = data.iloc[i]['longitude'],data.iloc[i]['latitude']\n",
    "                longitude2,latitude2 = data.iloc[i+1]['longitude'],data.iloc[i+1]['latitude']\n",
    "                distance = compute_distance(longitude1,latitude1,longitude2,latitude2)\n",
    "                graph[name1][name2] = distance\n",
    "                graph[name2][name1] = distance\n",
    "                #print(name1,name2,distance)   \n",
    "        #print(len(graph))\n",
    "        output = open('graph.pkl','wb')\n",
    "        pickle.dump(graph,output) \n",
    "        return graph"
   ]
  },
  {
   "cell_type": "code",
   "execution_count": 6,
   "metadata": {},
   "outputs": [],
   "source": [
    "# 找到最小开销的节点\n",
    "def find_lowest_cost_node(costs):\n",
    "    #初始化数据\n",
    "    lowest_cost = float('inf')\n",
    "    lowest_cost_node = None\n",
    "    for node in costs:\n",
    "        #如果节点没有被处理\n",
    "        if not node in processed:\n",
    "            #如果当前的node比已经存在的node的coss小，更新数据\n",
    "            if costs[node] < lowest_cost:\n",
    "                lowest_cost = costs[node]\n",
    "                lowest_cost_node = node\n",
    "    return lowest_cost_node"
   ]
  },
  {
   "cell_type": "code",
   "execution_count": 7,
   "metadata": {},
   "outputs": [],
   "source": [
    "# 找到最短路径,从start到end的最短路径\n",
    "def find_shortest_path():\n",
    "    node = end\n",
    "    shortest_path = [end]\n",
    "    while parents[node] != start:\n",
    "        shortest_path.append(parents[node])\n",
    "        node = parents[node]\n",
    "    shortest_path.append(start)\n",
    "    return shortest_path[::-1]    "
   ]
  },
  {
   "cell_type": "code",
   "execution_count": 14,
   "metadata": {},
   "outputs": [],
   "source": [
    "# 计算从start到end的最短路径\n",
    "def dijkstra():\n",
    "    graph = generate_graph()\n",
    "    #查询到目前开销最小的节点\n",
    "    node = find_lowest_cost_node(costs)\n",
    "    #print('当前cost最小节点',node)\n",
    "    #只要有cost最小的节点就进行路径计算，如果所有节点都在processed中结束计算。\n",
    "    while node is not None:\n",
    "        #获取节点目前的cost\n",
    "        cost = costs[node]\n",
    "        #获取节点的邻居节点\n",
    "        neighbors = graph[node]\n",
    "        #遍历所有邻居节点，看是否可以更新cost\n",
    "        for neighbor in neighbors.keys():\n",
    "            #计算经过当前节点到达邻居节点的cost\n",
    "            new_cost = cost + float(neighbors[neighbor])\n",
    "            if neighbor not in costs or new_cost < costs[neighbor]:\n",
    "                costs[neighbor] = new_cost\n",
    "                parents[neighbor] = node\n",
    "        #将当前节点标记为处理过\n",
    "        processed.append(node)\n",
    "        #找出下一步要处理的节点\n",
    "        node = find_lowest_cost_node(costs)\n",
    "    #循环完毕完成，说明所有节点处理完毕\n",
    "#     shortest_path = find_shortest_path()\n",
    "#     print('从{}到{}的最短路径为:\\n{}'.format(start,end,shortest_path))\n",
    "#     print('最短距离为：',costs[end])\n",
    "#     print('途径站点数：',len(shortest_path))"
   ]
  },
  {
   "cell_type": "code",
   "execution_count": 15,
   "metadata": {},
   "outputs": [],
   "source": [
    "# 找到最近的地铁站点\n",
    "def get_nearest_subway(data,location1):\n",
    "    distance = float('inf')\n",
    "    nearest = None\n",
    "    for i in range(data.shape[0]):\n",
    "        site1 = data.iloc[i]['name']\n",
    "        longitude = float(data.iloc[i]['longitude'])\n",
    "        latitude = float(data.iloc[i]['latitude'])\n",
    "        #计算距离\n",
    "        temp = (longitude - float(location1[0]))**2 + (latitude - float(location1[1]))**2\n",
    "        if temp < distance:\n",
    "            distance = temp\n",
    "            nearest = site1\n",
    "           \n",
    "    return nearest    "
   ]
  },
  {
   "cell_type": "code",
   "execution_count": 16,
   "metadata": {},
   "outputs": [],
   "source": [
    "# 两点间路径规划\n",
    "def route_planning(site1,site2,city = '北京'):\n",
    "    global start,end,costs,parents,processed\n",
    "    graph = generate_graph()\n",
    "    location1 = get_location(site1,city)\n",
    "    #print(location1)\n",
    "    location2 = get_location(site2,city)\n",
    "    #print(location2)\n",
    "    data = pd.read_csv('./subway.csv')\n",
    "    #print(data.head())\n",
    "    #获得距起点和终点最近的地铁站\n",
    "    start = get_nearest_subway(data,location1)\n",
    "    #print(start)\n",
    "    end = get_nearest_subway(data,location2)\n",
    "    #print(end)\n",
    "    print('离起点{}最近的地铁站为：{},离终点{}最近的地铁站为：{}'.format(site1,start,site2,end))\n",
    "    # 创建节点开销表，costs指节点到start的距离\n",
    "    costs = {}\n",
    "    # 存储父节点的hash表，用于记录路径\n",
    "    parents = {}\n",
    "    parents[end] = None\n",
    "    # 记录处理过的节点的列表\n",
    "    processed = []\n",
    "    # 获取节点的邻居节点\n",
    "    for node in graph[start].keys():\n",
    "        costs[node] = float(graph[start][node])\n",
    "        parents[node] = start\n",
    "    costs[end] = float('inf')\n",
    "    dijkstra()\n",
    "    #得到最短路径\n",
    "    shortest_path = find_shortest_path()\n",
    "    #如果起止点不是地铁站，在路径中增加起止点\n",
    "    if site1 != start:\n",
    "        shortest_path.insert(0,site1)\n",
    "    if site2 != end:\n",
    "        shortest_path.append(site2)\n",
    "    print('从{}到{}的最短路径为:\\n{}'.format(site1,site2,shortest_path))\n",
    "    print('最短距离为：',costs[end])\n",
    "    print('途径站点数：',len(shortest_path))"
   ]
  },
  {
   "cell_type": "code",
   "execution_count": 17,
   "metadata": {
    "scrolled": true
   },
   "outputs": [
    {
     "name": "stdout",
     "output_type": "stream",
     "text": [
      "离起点五道口站最近的地铁站为：五道口站,离终点北京南站最近的地铁站为：北京南站\n",
      "从五道口站到北京南站的最短路径为:\n",
      "['五道口站', '知春路站', '大钟寺站', '西直门站', '新街口站', '平安里站', '西四站', '灵境胡同站', '西单站', '宣武门站', '菜市口站', '陶然亭站', '北京南站']\n",
      "最短距离为： 31881.0\n",
      "途径站点数： 13\n",
      "离起点五道口站最近的地铁站为：五道口站,离终点良乡大学城站最近的地铁站为：良乡大学城站\n",
      "从五道口站到良乡大学城站的最短路径为:\n",
      "['五道口站', '知春路站', '知春里站', '海淀黄庄站', '人民大学站', '魏公村站', '国家图书馆站', '白石桥南站', '白堆子站', '军事博物馆站', '北京西站', '六里桥东站', '六里桥站', '七里庄站', '丰台东大街站', '丰台南路站', '科怡路站', '丰台科技园站', '郭公庄站', '大葆台站', '稻田站', '长阳站', '篱笆房站', '广阳城站', '良乡大学城北站', '良乡大学城站']\n",
      "最短距离为： 74196.0\n",
      "途径站点数： 26\n",
      "离起点雍和宫站最近的地铁站为：雍和宫站,离终点西二旗站最近的地铁站为：西二旗站\n",
      "从雍和宫站到西二旗站的最短路径为:\n",
      "['雍和宫站', '安定门站', '鼓楼大街站', '积水潭站', '西直门站', '大钟寺站', '知春路站', '五道口站', '上地站', '西二旗站']\n",
      "最短距离为： 31312.0\n",
      "途径站点数： 10\n",
      "离起点清华大学最近的地铁站为：五道口站,离终点798最近的地铁站为：将台站\n",
      "从清华大学到798的最短路径为:\n",
      "['清华大学', '五道口站', '知春路站', '西土城站', '牡丹园站', '健德门站', '北土城站', '安贞门站', '惠新西街南口站', '芍药居站', '望京西站', '望京站', '阜通站', '望京南站', '将台站', '798']\n",
      "最短距离为： 31378.0\n",
      "途径站点数： 16\n"
     ]
    }
   ],
   "source": [
    "if __name__ == '__main__':\n",
    "    site1 = '五道口站'\n",
    "    site2 = '北京南站'\n",
    "    route_planning(site1,site2)\n",
    "    site3 = '良乡大学城站'\n",
    "    route_planning(site1,site3)\n",
    "    site4 = '雍和宫站'\n",
    "    site5 = '西二旗站'\n",
    "    route_planning(site4,site5)\n",
    "    site6 = '清华大学'\n",
    "    site7 = '798'\n",
    "    route_planning(site6,site7)"
   ]
  }
 ],
 "metadata": {
  "kernelspec": {
   "display_name": "Python 3",
   "language": "python",
   "name": "python3"
  },
  "language_info": {
   "codemirror_mode": {
    "name": "ipython",
    "version": 3
   },
   "file_extension": ".py",
   "mimetype": "text/x-python",
   "name": "python",
   "nbconvert_exporter": "python",
   "pygments_lexer": "ipython3",
   "version": "3.7.3"
  }
 },
 "nbformat": 4,
 "nbformat_minor": 2
}
