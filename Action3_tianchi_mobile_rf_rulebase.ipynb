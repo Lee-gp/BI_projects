{
 "cells": [
  {
   "cell_type": "code",
   "execution_count": 1,
   "metadata": {},
   "outputs": [],
   "source": [
    "import numpy as np\n",
    "import pandas as pd\n",
    "from datetime import datetime,timedelta\n",
    "import matplotlib.pyplot as plt"
   ]
  },
  {
   "cell_type": "code",
   "execution_count": 2,
   "metadata": {},
   "outputs": [],
   "source": [
    "#由于数据集比较大，制作小样本数据\n",
    "#设置小样本数据大小\n",
    "max_size = 100000\n",
    "size = 0\n",
    "with open(\"sample.csv\",\"wb\") as writer:\n",
    "    with open(\"tianchi_fresh_comp_train_user.csv\",\"rb\") as file:\n",
    "        for line in file.readlines():\n",
    "            if size < max_size:\n",
    "                writer.write(line)\n",
    "                size +=1\n"
   ]
  },
  {
   "cell_type": "code",
   "execution_count": 3,
   "metadata": {},
   "outputs": [
    {
     "name": "stdout",
     "output_type": "stream",
     "text": [
      "(99999, 6)\n"
     ]
    },
    {
     "data": {
      "text/html": [
       "<div>\n",
       "<style scoped>\n",
       "    .dataframe tbody tr th:only-of-type {\n",
       "        vertical-align: middle;\n",
       "    }\n",
       "\n",
       "    .dataframe tbody tr th {\n",
       "        vertical-align: top;\n",
       "    }\n",
       "\n",
       "    .dataframe thead th {\n",
       "        text-align: right;\n",
       "    }\n",
       "</style>\n",
       "<table border=\"1\" class=\"dataframe\">\n",
       "  <thead>\n",
       "    <tr style=\"text-align: right;\">\n",
       "      <th></th>\n",
       "      <th>user_id</th>\n",
       "      <th>item_id</th>\n",
       "      <th>behavior_type</th>\n",
       "      <th>user_geohash</th>\n",
       "      <th>item_category</th>\n",
       "      <th>time</th>\n",
       "    </tr>\n",
       "  </thead>\n",
       "  <tbody>\n",
       "    <tr>\n",
       "      <th>0</th>\n",
       "      <td>10001082</td>\n",
       "      <td>285259775</td>\n",
       "      <td>1</td>\n",
       "      <td>97lk14c</td>\n",
       "      <td>4076</td>\n",
       "      <td>2014-12-08 18</td>\n",
       "    </tr>\n",
       "    <tr>\n",
       "      <th>1</th>\n",
       "      <td>10001082</td>\n",
       "      <td>4368907</td>\n",
       "      <td>1</td>\n",
       "      <td>NaN</td>\n",
       "      <td>5503</td>\n",
       "      <td>2014-12-12 12</td>\n",
       "    </tr>\n",
       "    <tr>\n",
       "      <th>2</th>\n",
       "      <td>10001082</td>\n",
       "      <td>4368907</td>\n",
       "      <td>1</td>\n",
       "      <td>NaN</td>\n",
       "      <td>5503</td>\n",
       "      <td>2014-12-12 12</td>\n",
       "    </tr>\n",
       "    <tr>\n",
       "      <th>3</th>\n",
       "      <td>10001082</td>\n",
       "      <td>53616768</td>\n",
       "      <td>1</td>\n",
       "      <td>NaN</td>\n",
       "      <td>9762</td>\n",
       "      <td>2014-12-02 15</td>\n",
       "    </tr>\n",
       "    <tr>\n",
       "      <th>4</th>\n",
       "      <td>10001082</td>\n",
       "      <td>151466952</td>\n",
       "      <td>1</td>\n",
       "      <td>NaN</td>\n",
       "      <td>5232</td>\n",
       "      <td>2014-12-12 11</td>\n",
       "    </tr>\n",
       "  </tbody>\n",
       "</table>\n",
       "</div>"
      ],
      "text/plain": [
       "    user_id    item_id  behavior_type user_geohash  item_category  \\\n",
       "0  10001082  285259775              1      97lk14c           4076   \n",
       "1  10001082    4368907              1          NaN           5503   \n",
       "2  10001082    4368907              1          NaN           5503   \n",
       "3  10001082   53616768              1          NaN           9762   \n",
       "4  10001082  151466952              1          NaN           5232   \n",
       "\n",
       "            time  \n",
       "0  2014-12-08 18  \n",
       "1  2014-12-12 12  \n",
       "2  2014-12-12 12  \n",
       "3  2014-12-02 15  \n",
       "4  2014-12-12 11  "
      ]
     },
     "execution_count": 3,
     "metadata": {},
     "output_type": "execute_result"
    }
   ],
   "source": [
    "# 数据加载\n",
    "df = pd.read_csv(\"./sample.csv\")\n",
    "print(df.shape)\n",
    "df.head()"
   ]
  },
  {
   "cell_type": "code",
   "execution_count": 4,
   "metadata": {},
   "outputs": [
    {
     "name": "stdout",
     "output_type": "stream",
     "text": [
      "1    94558\n",
      "3     2992\n",
      "2     1448\n",
      "4     1001\n",
      "Name: behavior_type, dtype: int64\n",
      "cvr = 1.0010100101001012%\n"
     ]
    }
   ],
   "source": [
    "# 计算cvr，转化率：购买率\n",
    "#各行为计数：1：浏览；2：收藏；3：加购；4：购买\n",
    "count_usr = df['behavior_type'].value_counts()\n",
    "print(count_usr)\n",
    "count_all = count_usr[1] + count_usr[2] + count_usr[3] + count_usr[4] #4种行为合计\n",
    "count_4 = count_usr[4] #购买行为\n",
    "cvr = count_4 / count_all #转化率，购买行为数量/所有行为数量\n",
    "print('cvr = {}%'.format(cvr*100))"
   ]
  },
  {
   "cell_type": "code",
   "execution_count": 5,
   "metadata": {},
   "outputs": [
    {
     "name": "stdout",
     "output_type": "stream",
     "text": [
      "                      user_id    item_id  behavior_type user_geohash  \\\n",
      "time                                                                   \n",
      "2014-12-08 18:00:00  10001082  285259775              1      97lk14c   \n",
      "2014-12-12 12:00:00  10001082    4368907              1          NaN   \n",
      "2014-12-12 12:00:00  10001082    4368907              1          NaN   \n",
      "2014-12-02 15:00:00  10001082   53616768              1          NaN   \n",
      "2014-12-12 11:00:00  10001082  151466952              1          NaN   \n",
      "\n",
      "                     item_category  \n",
      "time                                \n",
      "2014-12-08 18:00:00           4076  \n",
      "2014-12-12 12:00:00           5503  \n",
      "2014-12-12 12:00:00           5503  \n",
      "2014-12-02 15:00:00           9762  \n",
      "2014-12-12 11:00:00           5232  \n"
     ]
    }
   ],
   "source": [
    "# 将time特征转化为datetime类型并设置为index\n",
    "df['time'] = pd.to_datetime(df['time'])\n",
    "df.index = df['time']\n",
    "df.drop(['time'],axis = 1,inplace = True)\n",
    "print(df.head())"
   ]
  },
  {
   "cell_type": "code",
   "execution_count": 6,
   "metadata": {},
   "outputs": [],
   "source": [
    "def show_count_day(df):\n",
    "    #统计每天样本数量并展示\n",
    "    count_day = {}\n",
    "    #从2014年11月18日到2014年12月18日\n",
    "    start = '2014-11-17'\n",
    "    #字符串转化为时间\n",
    "    temp_date = datetime.strptime(start,'%Y-%m-%d')\n",
    "    delta = timedelta(days = 1)\n",
    "    for i in range(31):\n",
    "        temp_date = temp_date + delta\n",
    "        #时间转化为字符串\n",
    "        temp_str = temp_date.strftime('%Y-%m-%d')\n",
    "        #print(temp_str)\n",
    "        #统计df里每天的样本数量\n",
    "        count_day[temp_str] = df.loc[temp_str].shape[0]\n",
    "    #print(count_day)\n",
    "    #将字典类型转化为DataFrame    \n",
    "    df_count_day = pd.DataFrame.from_dict(count_day,orient = 'index',columns = ['count'])\n",
    "    plt.figure(figsize = (12,8))\n",
    "    df_count_day['count'].plot(kind = 'bar')\n",
    "    plt.legend(loc = 'best')\n",
    "    plt.grid(True)\n",
    "    plt.show()"
   ]
  },
  {
   "cell_type": "code",
   "execution_count": 7,
   "metadata": {},
   "outputs": [
    {
     "data": {
      "image/png": "[encoded data removed]",
      "text/plain": [
       "<Figure size 864x576 with 1 Axes>"
      ]
     },
     "metadata": {
      "needs_background": "light"
     },
     "output_type": "display_data"
    }
   ],
   "source": [
    "show_count_day(df)"
   ]
  },
  {
   "cell_type": "code",
   "execution_count": 8,
   "metadata": {},
   "outputs": [
    {
     "data": {
      "text/html": [
       "<div>\n",
       "<style scoped>\n",
       "    .dataframe tbody tr th:only-of-type {\n",
       "        vertical-align: middle;\n",
       "    }\n",
       "\n",
       "    .dataframe tbody tr th {\n",
       "        vertical-align: top;\n",
       "    }\n",
       "\n",
       "    .dataframe thead th {\n",
       "        text-align: right;\n",
       "    }\n",
       "</style>\n",
       "<table border=\"1\" class=\"dataframe\">\n",
       "  <thead>\n",
       "    <tr style=\"text-align: right;\">\n",
       "      <th></th>\n",
       "      <th>item_id</th>\n",
       "      <th>item_geohash</th>\n",
       "      <th>item_category</th>\n",
       "    </tr>\n",
       "  </thead>\n",
       "  <tbody>\n",
       "    <tr>\n",
       "      <th>0</th>\n",
       "      <td>100002303</td>\n",
       "      <td>NaN</td>\n",
       "      <td>3368</td>\n",
       "    </tr>\n",
       "    <tr>\n",
       "      <th>1</th>\n",
       "      <td>100003592</td>\n",
       "      <td>NaN</td>\n",
       "      <td>7995</td>\n",
       "    </tr>\n",
       "    <tr>\n",
       "      <th>2</th>\n",
       "      <td>100006838</td>\n",
       "      <td>NaN</td>\n",
       "      <td>12630</td>\n",
       "    </tr>\n",
       "    <tr>\n",
       "      <th>3</th>\n",
       "      <td>100008089</td>\n",
       "      <td>NaN</td>\n",
       "      <td>7791</td>\n",
       "    </tr>\n",
       "    <tr>\n",
       "      <th>4</th>\n",
       "      <td>100012750</td>\n",
       "      <td>NaN</td>\n",
       "      <td>9614</td>\n",
       "    </tr>\n",
       "  </tbody>\n",
       "</table>\n",
       "</div>"
      ],
      "text/plain": [
       "     item_id item_geohash  item_category\n",
       "0  100002303          NaN           3368\n",
       "1  100003592          NaN           7995\n",
       "2  100006838          NaN          12630\n",
       "3  100008089          NaN           7791\n",
       "4  100012750          NaN           9614"
      ]
     },
     "execution_count": 8,
     "metadata": {},
     "output_type": "execute_result"
    }
   ],
   "source": [
    "#属于商品P的操作次数\n",
    "df_p = pd.read_csv('./tianchi_fresh_comp_train_item.csv')\n",
    "df_p.head()"
   ]
  },
  {
   "cell_type": "code",
   "execution_count": 9,
   "metadata": {},
   "outputs": [
    {
     "name": "stdout",
     "output_type": "stream",
     "text": [
      "(99999, 5)\n",
      "(12913, 7)\n",
      "                      user_id    item_id  behavior_type user_geohash  \\\n",
      "time                                                                   \n",
      "2014-12-03 01:00:00  10001082  275221686              1          NaN   \n",
      "2014-12-13 14:00:00  10001082  275221686              1          NaN   \n",
      "2014-12-08 07:00:00  10001082  275221686              1          NaN   \n",
      "2014-12-08 07:00:00  10001082  275221686              1          NaN   \n",
      "2014-12-08 00:00:00  10001082  275221686              1          NaN   \n",
      "\n",
      "                     item_category_x item_geohash  item_category_y  \n",
      "time                                                                \n",
      "2014-12-03 01:00:00            10576          NaN            10576  \n",
      "2014-12-13 14:00:00            10576          NaN            10576  \n",
      "2014-12-08 07:00:00            10576          NaN            10576  \n",
      "2014-12-08 07:00:00            10576          NaN            10576  \n",
      "2014-12-08 00:00:00            10576          NaN            10576  \n"
     ]
    }
   ],
   "source": [
    "# sample和item表融合\n",
    "print(df.shape)\n",
    "df = pd.merge(df.reset_index(),df_p,on = ['item_id']).set_index(['time']) #reset_index将index还原\n",
    "print(df.shape)\n",
    "print(df.head())"
   ]
  },
  {
   "cell_type": "code",
   "execution_count": 10,
   "metadata": {},
   "outputs": [
    {
     "data": {
      "image/png": "[encoded data removed]",
      "text/plain": [
       "<Figure size 864x576 with 1 Axes>"
      ]
     },
     "metadata": {
      "needs_background": "light"
     },
     "output_type": "display_data"
    }
   ],
   "source": [
    "show_count_day(df)"
   ]
  },
  {
   "cell_type": "code",
   "execution_count": 11,
   "metadata": {},
   "outputs": [],
   "source": [
    "#基于小时的时间分析，指定某个日期\n",
    "def count_show_hour(date1):\n",
    "    count_hour = {}\n",
    "    #设置初始值\n",
    "    for i in range(24):\n",
    "        time_str = date1 + ' %02d'%i\n",
    "        count_hour[time_str] = [0,0,0,0]\n",
    "    \n",
    "    for i in range(24):\n",
    "        time_str = date1 + ' %02d'%i #每小时\n",
    "        temp = df.loc[time_str]['behavior_type'].value_counts() #每小时行为计数\n",
    "        #print(temp)\n",
    "        for j in range(len(temp)):\n",
    "            count_hour[time_str][temp.index[j] -1] += temp[temp.index[j]]#每小时行为计数\n",
    "    #print(count_hour)\n",
    "    df_count_hour = pd.DataFrame.from_dict(count_hour,orient = 'index')\n",
    "    plt.figure(figsize = (12,8))\n",
    "    df_count_hour.plot(kind = 'bar')\n",
    "    plt.legend(loc = 'best')\n",
    "    plt.grid(True)\n",
    "    plt.show()   "
   ]
  },
  {
   "cell_type": "code",
   "execution_count": 12,
   "metadata": {},
   "outputs": [
    {
     "data": {
      "text/plain": [
       "<Figure size 864x576 with 0 Axes>"
      ]
     },
     "metadata": {},
     "output_type": "display_data"
    },
    {
     "data": {
      "image/png": "[encoded data removed]",
      "text/plain": [
       "<Figure size 432x288 with 1 Axes>"
      ]
     },
     "metadata": {
      "needs_background": "light"
     },
     "output_type": "display_data"
    }
   ],
   "source": [
    "count_show_hour('2014-12-12')"
   ]
  },
  {
   "cell_type": "code",
   "execution_count": 13,
   "metadata": {},
   "outputs": [
    {
     "name": "stdout",
     "output_type": "stream",
     "text": [
      "chunk 30 done\n",
      "chunk 60 done\n",
      "chunk 90 done\n",
      "chunk 120 done\n",
      "chunk 150 done\n",
      "chunk 180 done\n",
      "chunk 210 done\n"
     ]
    }
   ],
   "source": [
    "# 分批加载数据，得到行为中包含3-加购物车和4-购买的数据集\n",
    "batch = 0\n",
    "for df in pd.read_csv(open('./tianchi_fresh_comp_train_user.csv','r'),chunksize = 100000):\n",
    "#     print(df.head())\n",
    "#     print(df.columns())\n",
    "    df_act_34 = df[df['behavior_type'].isin([3,4])] #包含行为3，4的数据\n",
    "    #因为有多个chunk,所以mode为a\n",
    "    df_act_34.to_csv('./act_34.csv',columns = ['time','user_id','item_id','behavior_type'],index = False,header = False,mode = 'a')\n",
    "    batch = batch +1\n",
    "    if batch % 30 == 0:\n",
    "        print('chunk %d done'%batch)"
   ]
  },
  {
   "cell_type": "code",
   "execution_count": 14,
   "metadata": {},
   "outputs": [
    {
     "name": "stderr",
     "output_type": "stream",
     "text": [
      "C:\\Users\\Administrator\\Anaconda3\\lib\\site-packages\\ipykernel_launcher.py:2: FutureWarning: The pandas.datetime class is deprecated and will be removed from pandas in a future version. Import from datetime module instead.\n",
      "  \n"
     ]
    },
    {
     "name": "stdout",
     "output_type": "stream",
     "text": [
      "(4460079, 4)\n"
     ]
    }
   ],
   "source": [
    "# 加载处理后含有行为3，4的数据\n",
    "dateparse = lambda dates:pd.datetime.strptime(dates,'%Y-%m-%d %H')\n",
    "data = pd.read_csv('./act_34.csv',parse_dates = [0],date_parser =dateparse,index_col = False)\n",
    "data.columns = ['time','user_id','item_id','behavior_type']\n",
    "print(data.shape)"
   ]
  },
  {
   "cell_type": "code",
   "execution_count": 15,
   "metadata": {},
   "outputs": [
    {
     "data": {
      "text/html": [
       "<div>\n",
       "<style scoped>\n",
       "    .dataframe tbody tr th:only-of-type {\n",
       "        vertical-align: middle;\n",
       "    }\n",
       "\n",
       "    .dataframe tbody tr th {\n",
       "        vertical-align: top;\n",
       "    }\n",
       "\n",
       "    .dataframe thead th {\n",
       "        text-align: right;\n",
       "    }\n",
       "</style>\n",
       "<table border=\"1\" class=\"dataframe\">\n",
       "  <thead>\n",
       "    <tr style=\"text-align: right;\">\n",
       "      <th></th>\n",
       "      <th>time</th>\n",
       "      <th>user_id</th>\n",
       "      <th>item_id</th>\n",
       "      <th>behavior_type</th>\n",
       "    </tr>\n",
       "  </thead>\n",
       "  <tbody>\n",
       "    <tr>\n",
       "      <th>0</th>\n",
       "      <td>2014-12-14 03:00:00</td>\n",
       "      <td>10001082</td>\n",
       "      <td>220586551</td>\n",
       "      <td>4</td>\n",
       "    </tr>\n",
       "    <tr>\n",
       "      <th>1</th>\n",
       "      <td>2014-12-02 22:00:00</td>\n",
       "      <td>10001082</td>\n",
       "      <td>275221686</td>\n",
       "      <td>4</td>\n",
       "    </tr>\n",
       "    <tr>\n",
       "      <th>2</th>\n",
       "      <td>2014-12-02 16:00:00</td>\n",
       "      <td>10001082</td>\n",
       "      <td>141312432</td>\n",
       "      <td>4</td>\n",
       "    </tr>\n",
       "    <tr>\n",
       "      <th>3</th>\n",
       "      <td>2014-12-13 00:00:00</td>\n",
       "      <td>100029775</td>\n",
       "      <td>287413918</td>\n",
       "      <td>4</td>\n",
       "    </tr>\n",
       "    <tr>\n",
       "      <th>4</th>\n",
       "      <td>2014-12-12 15:00:00</td>\n",
       "      <td>100029775</td>\n",
       "      <td>222229697</td>\n",
       "      <td>3</td>\n",
       "    </tr>\n",
       "  </tbody>\n",
       "</table>\n",
       "</div>"
      ],
      "text/plain": [
       "                 time    user_id    item_id  behavior_type\n",
       "0 2014-12-14 03:00:00   10001082  220586551              4\n",
       "1 2014-12-02 22:00:00   10001082  275221686              4\n",
       "2 2014-12-02 16:00:00   10001082  141312432              4\n",
       "3 2014-12-13 00:00:00  100029775  287413918              4\n",
       "4 2014-12-12 15:00:00  100029775  222229697              3"
      ]
     },
     "execution_count": 15,
     "metadata": {},
     "output_type": "execute_result"
    }
   ],
   "source": [
    "data.head()"
   ]
  },
  {
   "cell_type": "code",
   "execution_count": 16,
   "metadata": {},
   "outputs": [
    {
     "name": "stdout",
     "output_type": "stream",
     "text": [
      "<class 'pandas.core.frame.DataFrame'>\n",
      "Int64Index: 1162894 entries, 0 to 4460078\n",
      "Data columns (total 3 columns):\n",
      " #   Column   Non-Null Count    Dtype         \n",
      "---  ------   --------------    -----         \n",
      " 0   user_id  1162894 non-null  int64         \n",
      " 1   item_id  1162894 non-null  int64         \n",
      " 2   time4    1162894 non-null  datetime64[ns]\n",
      "dtypes: datetime64[ns](1), int64(2)\n",
      "memory usage: 35.5 MB\n"
     ]
    }
   ],
   "source": [
    "#存在行为3的数据\n",
    "data_time_3 = data[data['behavior_type'] == 3][['user_id','item_id','time']]\n",
    "# data_time_3.info()\n",
    "data_time_3.columns = ['user_id','item_id','time3']\n",
    "#存在行为4的数据\n",
    "data_time_4 = data[data['behavior_type'] == 4][['user_id','item_id','time']]\n",
    "data_time_4.columns = ['user_id','item_id','time4']\n",
    "data_time_4.info()"
   ]
  },
  {
   "cell_type": "code",
   "execution_count": 17,
   "metadata": {},
   "outputs": [
    {
     "name": "stdout",
     "output_type": "stream",
     "text": [
      "<class 'pandas.core.frame.DataFrame'>\n",
      "Int64Index: 7623930 entries, 0 to 7623929\n",
      "Data columns (total 4 columns):\n",
      " #   Column   Dtype         \n",
      "---  ------   -----         \n",
      " 0   user_id  int64         \n",
      " 1   item_id  int64         \n",
      " 2   time3    datetime64[ns]\n",
      " 3   time4    datetime64[ns]\n",
      "dtypes: datetime64[ns](2), int64(2)\n",
      "memory usage: 290.8 MB\n"
     ]
    },
    {
     "data": {
      "text/html": [
       "<div>\n",
       "<style scoped>\n",
       "    .dataframe tbody tr th:only-of-type {\n",
       "        vertical-align: middle;\n",
       "    }\n",
       "\n",
       "    .dataframe tbody tr th {\n",
       "        vertical-align: top;\n",
       "    }\n",
       "\n",
       "    .dataframe thead th {\n",
       "        text-align: right;\n",
       "    }\n",
       "</style>\n",
       "<table border=\"1\" class=\"dataframe\">\n",
       "  <thead>\n",
       "    <tr style=\"text-align: right;\">\n",
       "      <th></th>\n",
       "      <th>user_id</th>\n",
       "      <th>item_id</th>\n",
       "      <th>time3</th>\n",
       "      <th>time4</th>\n",
       "    </tr>\n",
       "  </thead>\n",
       "  <tbody>\n",
       "    <tr>\n",
       "      <th>0</th>\n",
       "      <td>100029775</td>\n",
       "      <td>222229697</td>\n",
       "      <td>2014-12-12 15:00:00</td>\n",
       "      <td>2014-12-12 15:00:00</td>\n",
       "    </tr>\n",
       "    <tr>\n",
       "      <th>1</th>\n",
       "      <td>100029775</td>\n",
       "      <td>222229697</td>\n",
       "      <td>2014-12-12 15:00:00</td>\n",
       "      <td>2014-12-12 15:00:00</td>\n",
       "    </tr>\n",
       "    <tr>\n",
       "      <th>2</th>\n",
       "      <td>100029775</td>\n",
       "      <td>222229697</td>\n",
       "      <td>2014-12-12 15:00:00</td>\n",
       "      <td>2014-12-12 15:00:00</td>\n",
       "    </tr>\n",
       "    <tr>\n",
       "      <th>3</th>\n",
       "      <td>100029775</td>\n",
       "      <td>222229697</td>\n",
       "      <td>2014-12-12 15:00:00</td>\n",
       "      <td>2014-12-12 15:00:00</td>\n",
       "    </tr>\n",
       "    <tr>\n",
       "      <th>4</th>\n",
       "      <td>100029775</td>\n",
       "      <td>222229697</td>\n",
       "      <td>2014-12-12 15:00:00</td>\n",
       "      <td>2014-12-12 15:00:00</td>\n",
       "    </tr>\n",
       "  </tbody>\n",
       "</table>\n",
       "</div>"
      ],
      "text/plain": [
       "     user_id    item_id               time3               time4\n",
       "0  100029775  222229697 2014-12-12 15:00:00 2014-12-12 15:00:00\n",
       "1  100029775  222229697 2014-12-12 15:00:00 2014-12-12 15:00:00\n",
       "2  100029775  222229697 2014-12-12 15:00:00 2014-12-12 15:00:00\n",
       "3  100029775  222229697 2014-12-12 15:00:00 2014-12-12 15:00:00\n",
       "4  100029775  222229697 2014-12-12 15:00:00 2014-12-12 15:00:00"
      ]
     },
     "execution_count": 17,
     "metadata": {},
     "output_type": "execute_result"
    }
   ],
   "source": [
    "# 融合数据\n",
    "data_time = pd.merge(data_time_3,data_time_4,on = ['user_id','item_id'],how = 'left')\n",
    "data_time.info()\n",
    "data_time.head()"
   ]
  },
  {
   "cell_type": "code",
   "execution_count": 18,
   "metadata": {},
   "outputs": [
    {
     "name": "stdout",
     "output_type": "stream",
     "text": [
      "<class 'pandas.core.frame.DataFrame'>\n",
      "RangeIndex: 5126025 entries, 0 to 5126024\n",
      "Data columns (total 4 columns):\n",
      " #   Column   Dtype         \n",
      "---  ------   -----         \n",
      " 0   user_id  int64         \n",
      " 1   item_id  int64         \n",
      " 2   time3    datetime64[ns]\n",
      " 3   time4    datetime64[ns]\n",
      "dtypes: datetime64[ns](2), int64(2)\n",
      "memory usage: 156.4 MB\n"
     ]
    },
    {
     "data": {
      "text/html": [
       "<div>\n",
       "<style scoped>\n",
       "    .dataframe tbody tr th:only-of-type {\n",
       "        vertical-align: middle;\n",
       "    }\n",
       "\n",
       "    .dataframe tbody tr th {\n",
       "        vertical-align: top;\n",
       "    }\n",
       "\n",
       "    .dataframe thead th {\n",
       "        text-align: right;\n",
       "    }\n",
       "</style>\n",
       "<table border=\"1\" class=\"dataframe\">\n",
       "  <thead>\n",
       "    <tr style=\"text-align: right;\">\n",
       "      <th></th>\n",
       "      <th>user_id</th>\n",
       "      <th>item_id</th>\n",
       "      <th>time3</th>\n",
       "      <th>time4</th>\n",
       "    </tr>\n",
       "  </thead>\n",
       "  <tbody>\n",
       "    <tr>\n",
       "      <th>0</th>\n",
       "      <td>100029775</td>\n",
       "      <td>222229697</td>\n",
       "      <td>2014-12-12 15:00:00</td>\n",
       "      <td>2014-12-12 15:00:00</td>\n",
       "    </tr>\n",
       "    <tr>\n",
       "      <th>1</th>\n",
       "      <td>100029775</td>\n",
       "      <td>222229697</td>\n",
       "      <td>2014-12-12 15:00:00</td>\n",
       "      <td>2014-12-12 15:00:00</td>\n",
       "    </tr>\n",
       "    <tr>\n",
       "      <th>2</th>\n",
       "      <td>100029775</td>\n",
       "      <td>222229697</td>\n",
       "      <td>2014-12-12 15:00:00</td>\n",
       "      <td>2014-12-12 15:00:00</td>\n",
       "    </tr>\n",
       "    <tr>\n",
       "      <th>3</th>\n",
       "      <td>100029775</td>\n",
       "      <td>222229697</td>\n",
       "      <td>2014-12-12 15:00:00</td>\n",
       "      <td>2014-12-12 15:00:00</td>\n",
       "    </tr>\n",
       "    <tr>\n",
       "      <th>4</th>\n",
       "      <td>100029775</td>\n",
       "      <td>222229697</td>\n",
       "      <td>2014-12-12 15:00:00</td>\n",
       "      <td>2014-12-12 15:00:00</td>\n",
       "    </tr>\n",
       "  </tbody>\n",
       "</table>\n",
       "</div>"
      ],
      "text/plain": [
       "     user_id    item_id               time3               time4\n",
       "0  100029775  222229697 2014-12-12 15:00:00 2014-12-12 15:00:00\n",
       "1  100029775  222229697 2014-12-12 15:00:00 2014-12-12 15:00:00\n",
       "2  100029775  222229697 2014-12-12 15:00:00 2014-12-12 15:00:00\n",
       "3  100029775  222229697 2014-12-12 15:00:00 2014-12-12 15:00:00\n",
       "4  100029775  222229697 2014-12-12 15:00:00 2014-12-12 15:00:00"
      ]
     },
     "execution_count": 18,
     "metadata": {},
     "output_type": "execute_result"
    }
   ],
   "source": [
    "# 同时有行为3，4的数据，用于训练\n",
    "data_time_train = data_time.dropna()\n",
    "data_time_train.reset_index(drop= True,inplace =True)\n",
    "data_time_train.info()\n",
    "data_time_train.head()"
   ]
  },
  {
   "cell_type": "code",
   "execution_count": 19,
   "metadata": {},
   "outputs": [
    {
     "data": {
      "text/plain": [
       "0   0 days\n",
       "1   0 days\n",
       "2   0 days\n",
       "3   0 days\n",
       "4   0 days\n",
       "dtype: timedelta64[ns]"
      ]
     },
     "execution_count": 19,
     "metadata": {},
     "output_type": "execute_result"
    }
   ],
   "source": [
    "# 求加购（行为3）到购买（行为4）的时间差\n",
    "delta_time = data_time_train['time4'] - data_time_train['time3']\n",
    "delta_time.head()"
   ]
  },
  {
   "cell_type": "code",
   "execution_count": 20,
   "metadata": {},
   "outputs": [],
   "source": [
    "# 按照小时来统计时间间隔\n",
    "delta_hour = []\n",
    "for i in range(len(delta_time)):\n",
    "    d_hour = delta_time[i].days*24 + delta_time[i]._h\n",
    "    if d_hour < 0:\n",
    "        #无效数据，放弃\n",
    "        continue\n",
    "    else:\n",
    "        delta_hour.append(d_hour)\n",
    "\n",
    "# print(delta_hour)    "
   ]
  },
  {
   "cell_type": "code",
   "execution_count": 21,
   "metadata": {},
   "outputs": [
    {
     "data": {
      "image/png": "[encoded data removed]",
      "text/plain": [
       "<Figure size 864x576 with 1 Axes>"
      ]
     },
     "metadata": {
      "needs_background": "light"
     },
     "output_type": "display_data"
    }
   ],
   "source": [
    "# delta_hour直方图可视化\n",
    "import matplotlib.pyplot as plt\n",
    "\n",
    "plt.figure(figsize = (12,8))\n",
    "plt.hist(delta_hour,bins =30)\n",
    "plt.xlabel('hours')\n",
    "plt.ylabel('count')\n",
    "plt.title('delta_hour from shopping cart to buy')\n",
    "plt.grid(True)\n",
    "plt.show()"
   ]
  },
  {
   "cell_type": "code",
   "execution_count": 22,
   "metadata": {},
   "outputs": [
    {
     "name": "stdout",
     "output_type": "stream",
     "text": [
      "<class 'pandas.core.frame.DataFrame'>\n",
      "DatetimeIndex: 2497905 entries, 2014-12-15 07:00:00 to 2014-11-24 20:00:00\n",
      "Data columns (total 2 columns):\n",
      " #   Column   Dtype\n",
      "---  ------   -----\n",
      " 0   user_id  int64\n",
      " 1   item_id  int64\n",
      "dtypes: int64(2)\n",
      "memory usage: 57.2 MB\n"
     ]
    },
    {
     "data": {
      "text/html": [
       "<div>\n",
       "<style scoped>\n",
       "    .dataframe tbody tr th:only-of-type {\n",
       "        vertical-align: middle;\n",
       "    }\n",
       "\n",
       "    .dataframe tbody tr th {\n",
       "        vertical-align: top;\n",
       "    }\n",
       "\n",
       "    .dataframe thead th {\n",
       "        text-align: right;\n",
       "    }\n",
       "</style>\n",
       "<table border=\"1\" class=\"dataframe\">\n",
       "  <thead>\n",
       "    <tr style=\"text-align: right;\">\n",
       "      <th></th>\n",
       "      <th>user_id</th>\n",
       "      <th>item_id</th>\n",
       "    </tr>\n",
       "    <tr>\n",
       "      <th>time3</th>\n",
       "      <th></th>\n",
       "      <th></th>\n",
       "    </tr>\n",
       "  </thead>\n",
       "  <tbody>\n",
       "    <tr>\n",
       "      <th>2014-12-15 07:00:00</th>\n",
       "      <td>100068031</td>\n",
       "      <td>296527651</td>\n",
       "    </tr>\n",
       "    <tr>\n",
       "      <th>2014-12-15 06:00:00</th>\n",
       "      <td>100068031</td>\n",
       "      <td>187577314</td>\n",
       "    </tr>\n",
       "    <tr>\n",
       "      <th>2014-12-18 17:00:00</th>\n",
       "      <td>100068031</td>\n",
       "      <td>150442941</td>\n",
       "    </tr>\n",
       "    <tr>\n",
       "      <th>2014-12-15 06:00:00</th>\n",
       "      <td>100068031</td>\n",
       "      <td>102448108</td>\n",
       "    </tr>\n",
       "    <tr>\n",
       "      <th>2014-11-18 10:00:00</th>\n",
       "      <td>100087810</td>\n",
       "      <td>66903742</td>\n",
       "    </tr>\n",
       "  </tbody>\n",
       "</table>\n",
       "</div>"
      ],
      "text/plain": [
       "                       user_id    item_id\n",
       "time3                                    \n",
       "2014-12-15 07:00:00  100068031  296527651\n",
       "2014-12-15 06:00:00  100068031  187577314\n",
       "2014-12-18 17:00:00  100068031  150442941\n",
       "2014-12-15 06:00:00  100068031  102448108\n",
       "2014-11-18 10:00:00  100087810   66903742"
      ]
     },
     "execution_count": 22,
     "metadata": {},
     "output_type": "execute_result"
    }
   ],
   "source": [
    "# 只有行为3的数据，用于预测\n",
    "data_time_X = data_time[data_time['time4'].isnull()].drop(['time4'],axis =1)\n",
    "data_time_X.index = data_time_X['time3']\n",
    "data_time_X.drop(['time3'],axis=1,inplace =True)\n",
    "data_time_X.info()\n",
    "data_time_X.head()"
   ]
  },
  {
   "cell_type": "code",
   "execution_count": 24,
   "metadata": {},
   "outputs": [
    {
     "data": {
      "text/html": [
       "<div>\n",
       "<style scoped>\n",
       "    .dataframe tbody tr th:only-of-type {\n",
       "        vertical-align: middle;\n",
       "    }\n",
       "\n",
       "    .dataframe tbody tr th {\n",
       "        vertical-align: top;\n",
       "    }\n",
       "\n",
       "    .dataframe thead th {\n",
       "        text-align: right;\n",
       "    }\n",
       "</style>\n",
       "<table border=\"1\" class=\"dataframe\">\n",
       "  <thead>\n",
       "    <tr style=\"text-align: right;\">\n",
       "      <th></th>\n",
       "      <th>user_id</th>\n",
       "      <th>item_id</th>\n",
       "      <th>item_geohash</th>\n",
       "      <th>item_category</th>\n",
       "    </tr>\n",
       "  </thead>\n",
       "  <tbody>\n",
       "    <tr>\n",
       "      <th>0</th>\n",
       "      <td>100442521</td>\n",
       "      <td>85464552</td>\n",
       "      <td>NaN</td>\n",
       "      <td>7876</td>\n",
       "    </tr>\n",
       "    <tr>\n",
       "      <th>1</th>\n",
       "      <td>100442521</td>\n",
       "      <td>85464552</td>\n",
       "      <td>NaN</td>\n",
       "      <td>7876</td>\n",
       "    </tr>\n",
       "    <tr>\n",
       "      <th>2</th>\n",
       "      <td>100442521</td>\n",
       "      <td>85464552</td>\n",
       "      <td>NaN</td>\n",
       "      <td>7876</td>\n",
       "    </tr>\n",
       "    <tr>\n",
       "      <th>3</th>\n",
       "      <td>100442521</td>\n",
       "      <td>85464552</td>\n",
       "      <td>NaN</td>\n",
       "      <td>7876</td>\n",
       "    </tr>\n",
       "    <tr>\n",
       "      <th>4</th>\n",
       "      <td>100442521</td>\n",
       "      <td>85464552</td>\n",
       "      <td>NaN</td>\n",
       "      <td>7876</td>\n",
       "    </tr>\n",
       "  </tbody>\n",
       "</table>\n",
       "</div>"
      ],
      "text/plain": [
       "     user_id   item_id item_geohash  item_category\n",
       "0  100442521  85464552          NaN           7876\n",
       "1  100442521  85464552          NaN           7876\n",
       "2  100442521  85464552          NaN           7876\n",
       "3  100442521  85464552          NaN           7876\n",
       "4  100442521  85464552          NaN           7876"
      ]
     },
     "execution_count": 24,
     "metadata": {},
     "output_type": "execute_result"
    }
   ],
   "source": [
    "#2014年12月18日加入购物车的用户\n",
    "ui_pred = data_time_X.loc['2014-12-18']\n",
    "#商品子集P\n",
    "P = pd.read_csv('./tianchi_fresh_comp_train_item.csv',index_col = False)\n",
    "# 2014年12月18日加入购物车的商品交集\n",
    "ui_pred_in_P = pd.merge(ui_pred,P,on = ['item_id'])\n",
    "ui_pred_in_P.head()"
   ]
  },
  {
   "cell_type": "code",
   "execution_count": 26,
   "metadata": {},
   "outputs": [],
   "source": [
    "# 使用简单规则预测：2014年12月18日加入购物车的用户会产生购买\n",
    "ui_pred_in_P.to_csv('./submit_purchase_pred.csv',columns = ['user_id','item_id'],index = False)"
   ]
  }
 ],
 "metadata": {
  "kernelspec": {
   "display_name": "Python 3",
   "language": "python",
   "name": "python3"
  },
  "language_info": {
   "codemirror_mode": {
    "name": "ipython",
    "version": 3
   },
   "file_extension": ".py",
   "mimetype": "text/x-python",
   "name": "python",
   "nbconvert_exporter": "python",
   "pygments_lexer": "ipython3",
   "version": "3.7.3"
  }
 },
 "nbformat": 4,
 "nbformat_minor": 2
}
