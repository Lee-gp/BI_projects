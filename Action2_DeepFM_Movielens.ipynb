{
  "nbformat": 4,
  "nbformat_minor": 0,
  "metadata": {
    "kernelspec": {
      "display_name": "Python 3",
      "language": "python",
      "name": "python3"
    },
    "language_info": {
      "codemirror_mode": {
        "name": "ipython",
        "version": 3
      },
      "file_extension": ".py",
      "mimetype": "text/x-python",
      "name": "python",
      "nbconvert_exporter": "python",
      "pygments_lexer": "ipython3",
      "version": "3.7.3"
    },
    "colab": {
      "name": "Action2_DeepFM_Movielens.ipynb",
      "provenance": [],
      "collapsed_sections": [],
      "include_colab_link": true
    }
  },
  "cells": [
    {
      "cell_type": "markdown",
      "metadata": {
        "id": "view-in-github",
        "colab_type": "text"
      },
      "source": [
        "<a href=\"https://colab.research.google.com/github/Lee-gp/BI_projects/blob/master/Action2_DeepFM_Movielens.ipynb\" target=\"_parent\"><img src=\"https://colab.research.google.com/assets/colab-badge.svg\" alt=\"Open In Colab\"/></a>"
      ]
    },
    {
      "cell_type": "code",
      "metadata": {
        "id": "UJllE0gB5WCs"
      },
      "source": [
        "# !pip install deepctr\n",
        "import pandas as pd\n",
        "from sklearn.metrics import mean_squared_error\n",
        "from sklearn.model_selection import train_test_split\n",
        "from sklearn.preprocessing import LabelEncoder\n",
        "from deepctr.models import DeepFM\n",
        "from deepctr.feature_column import SparseFeat,VarLenSparseFeat,get_feature_names"
      ],
      "execution_count": 8,
      "outputs": []
    },
    {
      "cell_type": "code",
      "metadata": {
        "colab": {
          "base_uri": "https://localhost:8080/"
        },
        "id": "LgiX-Pys5WCt",
        "outputId": "2367bd0f-0d17-4bc8-f6b9-a024dd63228e"
      },
      "source": [
        "#小样本数据加载\n",
        "from google.colab import drive\n",
        "import os\n",
        "drive.mount(\"/content/drive\")\n",
        "os.chdir(\"/content/drive/My Drive/Colab Notebooks/BI_core/BI_core_L5\")\n",
        "\n",
        "data = pd.read_csv('movielens_sample.txt')\n",
        "#所有特征作为稀疏特征\n",
        "sparse_features = ['movie_id','user_id','gender','age','occupation','zip']\n",
        "#标签\n",
        "target = ['rating']"
      ],
      "execution_count": 9,
      "outputs": [
        {
          "output_type": "stream",
          "text": [
            "Drive already mounted at /content/drive; to attempt to forcibly remount, call drive.mount(\"/content/drive\", force_remount=True).\n"
          ],
          "name": "stdout"
        }
      ]
    },
    {
      "cell_type": "code",
      "metadata": {
        "id": "N81nwDU55WCu"
      },
      "source": [
        "# 对特征标签进行编码\n",
        "for feature in sparse_features:\n",
        "    lbe = LabelEncoder()\n",
        "    data[feature] =lbe.fit_transform(data[feature])"
      ],
      "execution_count": 10,
      "outputs": []
    },
    {
      "cell_type": "code",
      "metadata": {
        "id": "ioShuV8J5WCu"
      },
      "source": [
        "# 计算每个特征中不同特征值的个数\n",
        "fixlen_feature_columns = [SparseFeat(feature,data[feature].nunique()) for feature in sparse_features]\n",
        "# print(fixlen_feature_columns)\n",
        "#FM特征\n",
        "linear_feature_columns = fixlen_feature_columns\n",
        "# print(linear_feature_columns)\n",
        "#DNN特征\n",
        "dnn_feature_columns = fixlen_feature_columns\n",
        "# print(dnn_feature_columns)\n",
        "#特征名称\n",
        "feature_names = get_feature_names(linear_feature_columns + dnn_feature_columns)\n",
        "# print(feature_names)"
      ],
      "execution_count": 13,
      "outputs": []
    },
    {
      "cell_type": "code",
      "metadata": {
        "id": "i7cN0TTk5WCx"
      },
      "source": [
        "# 将数据集切分为训练集和测试集\n",
        "train,test = train_test_split(data,test_size = 0.2,random_state = 33)\n",
        "train_model_input = {name:train[name].values for name in feature_names}\n",
        "test_model_input = {name:test[name].values for name in feature_names}"
      ],
      "execution_count": 14,
      "outputs": []
    },
    {
      "cell_type": "code",
      "metadata": {
        "colab": {
          "base_uri": "https://localhost:8080/"
        },
        "id": "G47CZhTn5WCx",
        "outputId": "f2b80657-5339-40fb-8172-97d9fe3c486d"
      },
      "source": [
        "# 使用DeepFM进行训练\n",
        "model = DeepFM(linear_feature_columns,dnn_feature_columns,task = 'regression')\n",
        "model.compile('adam','mse',metrics = ['mse'])\n",
        "history = model.fit(train_model_input,train[target].values,batch_size = 256,epochs =10,verbose =True,validation_split = 0.2)"
      ],
      "execution_count": 15,
      "outputs": [
        {
          "output_type": "stream",
          "text": [
            "Epoch 1/10\n"
          ],
          "name": "stdout"
        },
        {
          "output_type": "stream",
          "text": [
            "/usr/local/lib/python3.6/dist-packages/tensorflow/python/framework/indexed_slices.py:432: UserWarning: Converting sparse IndexedSlices to a dense Tensor of unknown shape. This may consume a large amount of memory.\n",
            "  \"Converting sparse IndexedSlices to a dense Tensor of unknown shape. \"\n"
          ],
          "name": "stderr"
        },
        {
          "output_type": "stream",
          "text": [
            "1/1 [==============================] - 0s 343ms/step - loss: 13.8202 - mse: 13.8202 - val_loss: 13.9472 - val_mse: 13.9472\n",
            "Epoch 2/10\n",
            "1/1 [==============================] - 0s 20ms/step - loss: 13.6839 - mse: 13.6839 - val_loss: 13.8262 - val_mse: 13.8262\n",
            "Epoch 3/10\n",
            "1/1 [==============================] - 0s 20ms/step - loss: 13.5391 - mse: 13.5391 - val_loss: 13.6966 - val_mse: 13.6966\n",
            "Epoch 4/10\n",
            "1/1 [==============================] - 0s 20ms/step - loss: 13.3843 - mse: 13.3843 - val_loss: 13.5584 - val_mse: 13.5584\n",
            "Epoch 5/10\n",
            "1/1 [==============================] - 0s 26ms/step - loss: 13.2199 - mse: 13.2199 - val_loss: 13.4113 - val_mse: 13.4113\n",
            "Epoch 6/10\n",
            "1/1 [==============================] - 0s 21ms/step - loss: 13.0453 - mse: 13.0453 - val_loss: 13.2551 - val_mse: 13.2551\n",
            "Epoch 7/10\n",
            "1/1 [==============================] - 0s 20ms/step - loss: 12.8595 - mse: 12.8595 - val_loss: 13.0894 - val_mse: 13.0894\n",
            "Epoch 8/10\n",
            "1/1 [==============================] - 0s 20ms/step - loss: 12.6622 - mse: 12.6622 - val_loss: 12.9130 - val_mse: 12.9130\n",
            "Epoch 9/10\n",
            "1/1 [==============================] - 0s 20ms/step - loss: 12.4528 - mse: 12.4528 - val_loss: 12.7256 - val_mse: 12.7256\n",
            "Epoch 10/10\n",
            "1/1 [==============================] - 0s 20ms/step - loss: 12.2303 - mse: 12.2303 - val_loss: 12.5265 - val_mse: 12.5265\n"
          ],
          "name": "stdout"
        }
      ]
    },
    {
      "cell_type": "code",
      "metadata": {
        "id": "uYVTNb4E5WCx"
      },
      "source": [
        "# 使用DeepFM进行预测\n",
        "pred_ans = model.predict(test_model_input,batch_size = 256)"
      ],
      "execution_count": 16,
      "outputs": []
    },
    {
      "cell_type": "code",
      "metadata": {
        "colab": {
          "base_uri": "https://localhost:8080/"
        },
        "id": "xRJkPkfF5WCx",
        "outputId": "c419e0a3-b9a3-4bff-8690-7e28eadf7444"
      },
      "source": [
        "# 输出RMSE或MSE\n",
        "mse = round(mean_squared_error(test[target].values,pred_ans),4)\n",
        "rmse = round(mse ** 0.5,4)\n",
        "print('test RMSE',rmse)"
      ],
      "execution_count": 18,
      "outputs": [
        {
          "output_type": "stream",
          "text": [
            "test RMSE 3.6842\n"
          ],
          "name": "stdout"
        }
      ]
    },
    {
      "cell_type": "code",
      "metadata": {
        "colab": {
          "base_uri": "https://localhost:8080/"
        },
        "id": "_QDOAKxR5WCy",
        "outputId": "79238e24-132e-4a36-f8e6-727a13f76d22"
      },
      "source": [
        "# 加载完整数据\n",
        "users = pd.read_csv('./users.dat',sep = '::',header = None)\n",
        "movies = pd.read_csv('./movies.dat',sep = '::',header = None)\n",
        "ratings = pd.read_csv('./ratings.dat',sep = '::',header = None)\n",
        "\n",
        "users.columns = ['user_id','gender','age','occupation','zip']\n",
        "movies.columns = ['movie_id','title','genres']\n",
        "ratings.columns = ['user_id','movie_id','rating','timestamp']\n",
        "#将3个源文件的数据融合\n",
        "complete_data = users.merge(ratings,on = 'user_id').merge(movies,on='movie_id')"
      ],
      "execution_count": 19,
      "outputs": [
        {
          "output_type": "stream",
          "text": [
            "/usr/local/lib/python3.6/dist-packages/ipykernel_launcher.py:2: ParserWarning: Falling back to the 'python' engine because the 'c' engine does not support regex separators (separators > 1 char and different from '\\s+' are interpreted as regex); you can avoid this warning by specifying engine='python'.\n",
            "  \n",
            "/usr/local/lib/python3.6/dist-packages/ipykernel_launcher.py:3: ParserWarning: Falling back to the 'python' engine because the 'c' engine does not support regex separators (separators > 1 char and different from '\\s+' are interpreted as regex); you can avoid this warning by specifying engine='python'.\n",
            "  This is separate from the ipykernel package so we can avoid doing imports until\n",
            "/usr/local/lib/python3.6/dist-packages/ipykernel_launcher.py:4: ParserWarning: Falling back to the 'python' engine because the 'c' engine does not support regex separators (separators > 1 char and different from '\\s+' are interpreted as regex); you can avoid this warning by specifying engine='python'.\n",
            "  after removing the cwd from sys.path.\n"
          ],
          "name": "stderr"
        }
      ]
    },
    {
      "cell_type": "code",
      "metadata": {
        "id": "GPWqilga5WCy"
      },
      "source": [
        "# 对特征标签进行编码\n",
        "for feature in sparse_features:\n",
        "    complete_data[feature] = lbe.fit_transform(complete_data[feature])"
      ],
      "execution_count": 20,
      "outputs": []
    },
    {
      "cell_type": "code",
      "metadata": {
        "id": "2hlz1Wwg5WCy"
      },
      "source": [
        "# 计算每个特征中不同特征值的个数\n",
        "fixlen_feature_columns = [SparseFeat(feature,complete_data[feature].nunique()) for feature in sparse_features]\n",
        "# print(fixlen_feature_columns)\n",
        "linear_feature_columns = fixlen_feature_columns\n",
        "dnn_feature_columns = fixlen_feature_columns\n",
        "feature_names = get_feature_names(linear_feature_columns + dnn_feature_columns)"
      ],
      "execution_count": 21,
      "outputs": []
    },
    {
      "cell_type": "code",
      "metadata": {
        "id": "-Mmgz_3z5WCy"
      },
      "source": [
        "# 将数据集切分为训练集和测试集\n",
        "com_train,com_test = train_test_split(complete_data,test_size = 0.2,random_state = 33)\n",
        "com_train_model_input = {name:com_train[name].values for name in feature_names}\n",
        "com_test_model_input = {name:com_test[name].values for name in feature_names}"
      ],
      "execution_count": 22,
      "outputs": []
    },
    {
      "cell_type": "code",
      "metadata": {
        "colab": {
          "base_uri": "https://localhost:8080/"
        },
        "id": "gvtVTAsB5WCy",
        "outputId": "57a86a7a-e31f-4646-8dfa-f0afbe59abe7"
      },
      "source": [
        "# 使用DeepFM进行训练\n",
        "model = DeepFM(linear_feature_columns,dnn_feature_columns,task = 'regression')\n",
        "model.compile('adam','mse',metrics = ['mse'])\n",
        "model.fit(com_train_model_input,com_train[target].values,batch_size = 256,epochs =10,verbose =True,validation_split = 0.2)"
      ],
      "execution_count": 23,
      "outputs": [
        {
          "output_type": "stream",
          "text": [
            "Epoch 1/10\n"
          ],
          "name": "stdout"
        },
        {
          "output_type": "stream",
          "text": [
            "/usr/local/lib/python3.6/dist-packages/tensorflow/python/framework/indexed_slices.py:432: UserWarning: Converting sparse IndexedSlices to a dense Tensor of unknown shape. This may consume a large amount of memory.\n",
            "  \"Converting sparse IndexedSlices to a dense Tensor of unknown shape. \"\n"
          ],
          "name": "stderr"
        },
        {
          "output_type": "stream",
          "text": [
            "2501/2501 [==============================] - 13s 5ms/step - loss: 1.0041 - mse: 1.0034 - val_loss: 0.8226 - val_mse: 0.8214\n",
            "Epoch 2/10\n",
            "2501/2501 [==============================] - 13s 5ms/step - loss: 0.8116 - mse: 0.8099 - val_loss: 0.8040 - val_mse: 0.8017\n",
            "Epoch 3/10\n",
            "2501/2501 [==============================] - 12s 5ms/step - loss: 0.7857 - mse: 0.7827 - val_loss: 0.7857 - val_mse: 0.7821\n",
            "Epoch 4/10\n",
            "2501/2501 [==============================] - 12s 5ms/step - loss: 0.7683 - mse: 0.7641 - val_loss: 0.7827 - val_mse: 0.7779\n",
            "Epoch 5/10\n",
            "2501/2501 [==============================] - 12s 5ms/step - loss: 0.7575 - mse: 0.7521 - val_loss: 0.7792 - val_mse: 0.7733\n",
            "Epoch 6/10\n",
            "2501/2501 [==============================] - 12s 5ms/step - loss: 0.7505 - mse: 0.7440 - val_loss: 0.7797 - val_mse: 0.7727\n",
            "Epoch 7/10\n",
            "2501/2501 [==============================] - 12s 5ms/step - loss: 0.7450 - mse: 0.7375 - val_loss: 0.7801 - val_mse: 0.7722\n",
            "Epoch 8/10\n",
            "2501/2501 [==============================] - 13s 5ms/step - loss: 0.7391 - mse: 0.7307 - val_loss: 0.7788 - val_mse: 0.7699\n",
            "Epoch 9/10\n",
            "2501/2501 [==============================] - 13s 5ms/step - loss: 0.7319 - mse: 0.7226 - val_loss: 0.7825 - val_mse: 0.7728\n",
            "Epoch 10/10\n",
            "2501/2501 [==============================] - 13s 5ms/step - loss: 0.7240 - mse: 0.7139 - val_loss: 0.7791 - val_mse: 0.7686\n"
          ],
          "name": "stdout"
        }
      ]
    },
    {
      "cell_type": "code",
      "metadata": {
        "id": "sPeqQDf45WCz"
      },
      "source": [
        "#使用训练好模型进行预测\n",
        "com_pred_ans = model.predict(com_test_model_input,batch_size = 256)"
      ],
      "execution_count": 24,
      "outputs": []
    },
    {
      "cell_type": "code",
      "metadata": {
        "colab": {
          "base_uri": "https://localhost:8080/"
        },
        "id": "8dqElZMC5WCz",
        "outputId": "a3283df4-f31b-4000-d58c-9ac158557a5e"
      },
      "source": [
        "# 输出RMSE或MSE\n",
        "mse = round(mean_squared_error(com_test[target].values,com_pred_ans),4)\n",
        "rmse = round(mse ** 0.5,4)\n",
        "print('test RMSE',rmse)"
      ],
      "execution_count": 26,
      "outputs": [
        {
          "output_type": "stream",
          "text": [
            "test RMSE 0.8773\n"
          ],
          "name": "stdout"
        }
      ]
    }
  ]
}