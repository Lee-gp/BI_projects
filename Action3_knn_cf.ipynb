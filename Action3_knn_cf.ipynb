{
  "nbformat": 4,
  "nbformat_minor": 0,
  "metadata": {
    "kernelspec": {
      "display_name": "Python 3",
      "language": "python",
      "name": "python3"
    },
    "language_info": {
      "codemirror_mode": {
        "name": "ipython",
        "version": 3
      },
      "file_extension": ".py",
      "mimetype": "text/x-python",
      "name": "python",
      "nbconvert_exporter": "python",
      "pygments_lexer": "ipython3",
      "version": "3.7.3"
    },
    "colab": {
      "name": "Action3_knn_cf.ipynb",
      "provenance": [],
      "include_colab_link": true
    }
  },
  "cells": [
    {
      "cell_type": "markdown",
      "metadata": {
        "id": "view-in-github",
        "colab_type": "text"
      },
      "source": [
        "<a href=\"https://colab.research.google.com/github/Lee-gp/BI_projects/blob/master/Action3_knn_cf.ipynb\" target=\"_parent\"><img src=\"https://colab.research.google.com/assets/colab-badge.svg\" alt=\"Open In Colab\"/></a>"
      ]
    },
    {
      "cell_type": "code",
      "metadata": {
        "id": "fEnM1yN159bi"
      },
      "source": [
        "from surprise import KNNWithMeans\n",
        "from surprise import Dataset,Reader\n",
        "from surprise.model_selection import KFold\n",
        "from surprise import accuracy"
      ],
      "execution_count": null,
      "outputs": []
    },
    {
      "cell_type": "code",
      "metadata": {
        "id": "3fmNL4E459bj"
      },
      "source": [
        "# 数据读取\n",
        "reader = Reader(line_format ='user item rating timestamp',sep = ',',skip_lines =1)\n",
        "data = Dataset.load_from_file('./knn_ratings.csv',reader =reader)\n",
        "# trainset = data.build_full_trainset()"
      ],
      "execution_count": null,
      "outputs": []
    },
    {
      "cell_type": "code",
      "metadata": {
        "id": "kJXW7JhM59bj"
      },
      "source": [
        "#ItemCF计算得分\n",
        "# 取最相似的用户计算时，只取最相似的k个\n",
        "algo = KNNWithMeans(k = 50,sim_options = {'user_based':False,'verbose':'True'})\n",
        "# algo.fit(trainset)"
      ],
      "execution_count": null,
      "outputs": []
    },
    {
      "cell_type": "code",
      "metadata": {
        "id": "5hDN2cIX59bj",
        "outputId": "429131c4-87ae-4a7a-9bad-a6d86270a6ea"
      },
      "source": [
        "# 训练模型\n",
        "kf = KFold(n_splits =3)\n",
        "for train_set,test_set in kf.split(data):\n",
        "    algo.fit(train_set)\n",
        "    pred = algo.test(test_set)\n",
        "    accuracy.rmse(pred,verbose=True)"
      ],
      "execution_count": null,
      "outputs": [
        {
          "output_type": "stream",
          "text": [
            "Computing the msd similarity matrix...\n",
            "Done computing similarity matrix.\n",
            "RMSE: 0.8575\n",
            "Computing the msd similarity matrix...\n",
            "Done computing similarity matrix.\n",
            "RMSE: 0.8563\n",
            "Computing the msd similarity matrix...\n",
            "Done computing similarity matrix.\n",
            "RMSE: 0.8561\n"
          ],
          "name": "stdout"
        }
      ]
    },
    {
      "cell_type": "code",
      "metadata": {
        "id": "C3EkRCf-59bl",
        "outputId": "6b6286a7-4915-42b0-8dc2-50b699af1c57"
      },
      "source": [
        "uid = str(196)\n",
        "iid = str(302)\n",
        "\n",
        "pred = algo.predict(uid,iid)\n",
        "print(pred)"
      ],
      "execution_count": null,
      "outputs": [
        {
          "output_type": "stream",
          "text": [
            "user: 196        item: 302        r_ui = None   est = 4.08   {'actual_k': 50, 'was_impossible': False}\n"
          ],
          "name": "stdout"
        }
      ]
    }
  ]
}