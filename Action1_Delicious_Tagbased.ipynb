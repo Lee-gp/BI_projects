{
 "cells": [
  {
   "cell_type": "code",
   "execution_count": 1,
   "metadata": {},
   "outputs": [],
   "source": [
    "import random\n",
    "import math\n",
    "import operator\n",
    "import pandas as pd\n",
    "import numpy as np\n",
    "from numba import njit"
   ]
  },
  {
   "cell_type": "code",
   "execution_count": 2,
   "metadata": {},
   "outputs": [],
   "source": [
    "#字典类型，保存user对item的tag,即{userid:{item1:[tag1,tag2],...}}\n",
    "records =dict()\n",
    "#训练集，测试集\n",
    "train_data = dict()\n",
    "test_data = dict()\n",
    "#用户标签，商品标签\n",
    "user_tags = dict()\n",
    "# 标签-商品\n",
    "tag_items = dict()\n",
    "#用户-物品\n",
    "user_items = dict()\n",
    "#标签-用户\n",
    "tag_users = dict()"
   ]
  },
  {
   "cell_type": "code",
   "execution_count": 3,
   "metadata": {},
   "outputs": [],
   "source": [
    "#数据加载\n",
    "def loadData():    \n",
    "    print(\"开始数据加载...\")\n",
    "    file_path = \"./user_taggedbookmarks-timestamps.dat\"\n",
    "    df = pd.read_csv(file_path,sep=\"\\t\")\n",
    "    #print(df)\n",
    "    for i in range(len(df)):\n",
    "        uid = df['userID'][i]\n",
    "        iid = df['bookmarkID'][i]\n",
    "        tag = df['tagID'][i]\n",
    "        #键不存在时，设置默认值{}\n",
    "        records.setdefault(uid,dict())\n",
    "        records[uid].setdefault(iid,list())        \n",
    "        records[uid][iid].append(tag)\n",
    "    print('数据集大小为%d'%(len(df)))\n",
    "    print('设置tag的人数%d'%(len(records)))\n",
    "    print(\"数据加载完成\\n\")"
   ]
  },
  {
   "cell_type": "code",
   "execution_count": 4,
   "metadata": {},
   "outputs": [],
   "source": [
    "#将数据集拆分为训练集和测试集\n",
    "def trainTestSplit(ratio,seed = 100):\n",
    "    random.seed(seed)\n",
    "    for u in records.keys():\n",
    "        for i in records[u].keys():\n",
    "            #ratio比例设置为测试集\n",
    "            if random.random() < ratio:\n",
    "                test_data.setdefault(u,{})\n",
    "                test_data[u].setdefault(i,[])\n",
    "                for t in records[u][i]:\n",
    "                    test_data[u][i].append(t)\n",
    "            else:\n",
    "                train_data.setdefault(u,{})\n",
    "                train_data[u].setdefault(i,[])\n",
    "                for t in records[u][i]:\n",
    "                    train_data[u][i].append(t)\n",
    "    print('训练集样本数 %d,测试集样本数 %d'%(len(train_data),len(test_data)))"
   ]
  },
  {
   "cell_type": "code",
   "execution_count": 5,
   "metadata": {},
   "outputs": [],
   "source": [
    "#设置矩阵mat[index,item] = 1\n",
    "def addValueToMat(mat,index,item,value=1):\n",
    "    if index not in mat:\n",
    "        mat.setdefault(index,{})\n",
    "        mat[index].setdefault(item,value)\n",
    "    else:\n",
    "        if item not in mat[index]:\n",
    "            mat[index][item] = value\n",
    "        else:\n",
    "            mat[index][item] += value          \n"
   ]
  },
  {
   "cell_type": "code",
   "execution_count": 6,
   "metadata": {},
   "outputs": [],
   "source": [
    "#使用训练集，初始化user_tags,tag_items,user_items,tag_users\n",
    "def initStat():\n",
    "    #使用训练集\n",
    "    for u,items in train_data.items():\n",
    "        for i,tags in items.items():\n",
    "            for tag in tags:\n",
    "                #用户和tag的关系\n",
    "                addValueToMat(user_tags,u,tag,1)\n",
    "                #tag和item关系\n",
    "                addValueToMat(tag_items,tag,i,1)\n",
    "                #用户和item的关系\n",
    "                addValueToMat(user_items,u,i,1)  \n",
    "                #标签和用户的关系\n",
    "                addValueToMat(tag_users,tag,u,1)\n",
    "    print(\"user_tags,tag_items,user_items,tag_users初始化完成。\")\n",
    "    print(\"user_tags大小 %d,tag_items大小 %d,user_items大小 %d,tag_users大小 %d\" \\\n",
    "          %(len(user_tags),len(tag_items),len(user_items),len(tag_users)))"
   ]
  },
  {
   "cell_type": "code",
   "execution_count": 7,
   "metadata": {},
   "outputs": [],
   "source": [
    "#对用户user推荐topN\n",
    "#@njit(fastmath = True)\n",
    "def recommend(method,user,N):\n",
    "    recommend_items = dict()\n",
    "    tagged_items = user_items[user]\n",
    "    #wut:用户对某标签的使用次数；wti:商品被打上相同标签的次数\n",
    "    \n",
    "    if method == \"NormTagBased\":\n",
    "        #NormTagBased分数为所有的(wut/user_tag_csum)*(wti/tag_item_csums)之和\n",
    "        #(user_tag_csum:该用户打的所有标签次数，tag_item_csums:物品打上该标签总的次数)         \n",
    "        user_tag_csum = 0        \n",
    "        #计算用户累计标签次数\n",
    "        for tag,wut in user_tags[user].items():\n",
    "            user_tag_csum += wut\n",
    "            \n",
    "        tag_item_csums = dict()         \n",
    "        #统计标签累计使用次数\n",
    "        for tag,items in tag_items.items():\n",
    "            for item,wti in items.items():\n",
    "                if tag not in tag_item_csums.keys():\n",
    "                    tag_item_csums[tag] = wti\n",
    "                else:\n",
    "                    tag_item_csums[tag] +=wti\n",
    "                    \n",
    "    if method == \"TagBased_TFIDF\":\n",
    "        #TagBased_TFIDF分数为所有的(wut/log(1 + tag_user_csums))*(wti)之和（tag_user_csums:所有使用该标签的用户）\n",
    "        tag_user_csums = dict()\n",
    "        #统计标签不同用户数\n",
    "        for tag,users in tag_users.items():\n",
    "            tag_user_csums[tag] = len(users)\n",
    "                    \n",
    "    #对item进行打分     \n",
    "    for tag,wut in user_tags[user].items():\n",
    "        for item,wti in tag_items[tag].items():\n",
    "            if item in tagged_items:\n",
    "                continue\n",
    "            if item not in recommend_items:\n",
    "                if method == \"SimpleTagBased\":\n",
    "                    #SimpleTagBased分数为所有的wut*wti之和（wut:用户对某标签的使用次数；wti:商品被打上相同标签的次数）\n",
    "                    recommend_items[item] = wut * wti\n",
    "                elif method == \"NormTagBased\":\n",
    "                    #NormTagBased分数为所有的(wut/user_tag_csum)*(wti/tag_item_csums)之和\n",
    "                    #(user_tag_csum:该用户打的所有标签次数，tag_item_csums:该标签被打上的总的次数) \n",
    "                    recommend_items[item] = (wut/user_tag_csum)*(wti/tag_item_csums[tag])\n",
    "                elif method == \"TagBased_TFIDF\":\n",
    "                    #TagBased_TFIDF分数为所有的(wut/log(1 + tag_user_csums))*(wti)之和（tag_user_csums:所有使用该标签的用户）\n",
    "                    recommend_items[item] = (wut/np.log(1 + tag_user_csums[tag]))*wti\n",
    "            else:\n",
    "                if method == \"SimpleTagBased\":\n",
    "                    recommend_items[item] += wut * wti\n",
    "                elif method == \"NormTagBased\":\n",
    "                    recommend_items[item] += (wut/user_tag_csum)*(wti/tag_item_csums[tag])\n",
    "                elif method == \"TagBased_TFIDF\":\n",
    "                    recommend_items[item] += (wut/np.log(1+tag_user_csums[tag]))*wti\n",
    "    return sorted(recommend_items.items(),key = operator.itemgetter(1),reverse = True)[0:N]"
   ]
  },
  {
   "cell_type": "code",
   "execution_count": 8,
   "metadata": {},
   "outputs": [],
   "source": [
    "#使用测试集计算精确率和召回率\n",
    "#@njit(fastmath = True)\n",
    "def precisionAndRecall(method,N):\n",
    "    hit = 0\n",
    "    h_recall = 0\n",
    "    h_precision = 0\n",
    "    for user,items in test_data.items():\n",
    "        if user not in train_data:\n",
    "            continue\n",
    "        #获取topN推荐列表\n",
    "        rank = recommend(method,user,N)\n",
    "        for item,rui in rank:\n",
    "            if item in items:\n",
    "                hit = hit +1\n",
    "        h_recall = h_recall + len(items)\n",
    "        h_precision = h_precision + N\n",
    "    print('一共命中{}个，一共推荐{}个，用户设置tag总数{}个'.format(hit,h_precision,h_recall))\n",
    "    #返回精确率和召回率\n",
    "    return (hit/(h_precision*1.0)),(hit/(h_recall*1.0))"
   ]
  },
  {
   "cell_type": "code",
   "execution_count": 9,
   "metadata": {},
   "outputs": [],
   "source": [
    "#使用测试集对推荐结果进行评估\n",
    "def testRecommend(method):\n",
    "    print(\"{}推荐结果评估：\".format(method))\n",
    "    print(\"%3s %10s %10s\"%(\"N\",\"精确率\",\"召回率\"))\n",
    "    for n in [5,10,20,40,60,80,100]:\n",
    "        precision,recall = precisionAndRecall(method,n)\n",
    "        print(\"%3d %10.3f%% %10.3f%%\"%(n,precision * 100,recall * 100))"
   ]
  },
  {
   "cell_type": "code",
   "execution_count": 10,
   "metadata": {},
   "outputs": [
    {
     "name": "stdout",
     "output_type": "stream",
     "text": [
      "开始数据加载...\n",
      "数据集大小为437593\n",
      "设置tag的人数1867\n",
      "数据加载完成\n",
      "\n"
     ]
    }
   ],
   "source": [
    "#数据加载\n",
    "loadData()"
   ]
  },
  {
   "cell_type": "code",
   "execution_count": 11,
   "metadata": {},
   "outputs": [
    {
     "name": "stdout",
     "output_type": "stream",
     "text": [
      "训练集样本数 1860,测试集样本数 1793\n"
     ]
    }
   ],
   "source": [
    "#训练集测试集拆分，20%测试集\n",
    "trainTestSplit(0.2)"
   ]
  },
  {
   "cell_type": "code",
   "execution_count": 12,
   "metadata": {},
   "outputs": [
    {
     "name": "stdout",
     "output_type": "stream",
     "text": [
      "user_tags,tag_items,user_items,tag_users初始化完成。\n",
      "user_tags大小 1860,tag_items大小 36884,user_items大小 1860,tag_users大小 36884\n"
     ]
    }
   ],
   "source": [
    "initStat()"
   ]
  },
  {
   "cell_type": "code",
   "execution_count": 13,
   "metadata": {},
   "outputs": [
    {
     "name": "stdout",
     "output_type": "stream",
     "text": [
      "SimpleTagBased推荐结果评估：\n",
      "  N        精确率        召回率\n",
      "一共命中74个，一共推荐8930个，用户设置tag总数20861个\n",
      "  5      0.829%      0.355%\n",
      "一共命中113个，一共推荐17860个，用户设置tag总数20861个\n",
      " 10      0.633%      0.542%\n",
      "一共命中183个，一共推荐35720个，用户设置tag总数20861个\n",
      " 20      0.512%      0.877%\n",
      "一共命中272个，一共推荐71440个，用户设置tag总数20861个\n",
      " 40      0.381%      1.304%\n",
      "一共命中341个，一共推荐107160个，用户设置tag总数20861个\n",
      " 60      0.318%      1.635%\n",
      "一共命中395个，一共推荐142880个，用户设置tag总数20861个\n",
      " 80      0.276%      1.893%\n",
      "一共命中443个，一共推荐178600个，用户设置tag总数20861个\n",
      "100      0.248%      2.124%\n",
      "NormTagBased推荐结果评估：\n",
      "  N        精确率        召回率\n",
      "一共命中64个，一共推荐8930个，用户设置tag总数20861个\n",
      "  5      0.717%      0.307%\n",
      "一共命中94个，一共推荐17860个，用户设置tag总数20861个\n",
      " 10      0.526%      0.451%\n",
      "一共命中147个，一共推荐35720个，用户设置tag总数20861个\n",
      " 20      0.412%      0.705%\n",
      "一共命中209个，一共推荐71440个，用户设置tag总数20861个\n",
      " 40      0.293%      1.002%\n",
      "一共命中262个，一共推荐107160个，用户设置tag总数20861个\n",
      " 60      0.244%      1.256%\n",
      "一共命中322个，一共推荐142880个，用户设置tag总数20861个\n",
      " 80      0.225%      1.544%\n",
      "一共命中382个，一共推荐178600个，用户设置tag总数20861个\n",
      "100      0.214%      1.831%\n",
      "TagBased_TFIDF推荐结果评估：\n",
      "  N        精确率        召回率\n",
      "一共命中90个，一共推荐8930个，用户设置tag总数20861个\n",
      "  5      1.008%      0.431%\n",
      "一共命中136个，一共推荐17860个，用户设置tag总数20861个\n",
      " 10      0.761%      0.652%\n",
      "一共命中196个，一共推荐35720个，用户设置tag总数20861个\n",
      " 20      0.549%      0.940%\n",
      "一共命中287个，一共推荐71440个，用户设置tag总数20861个\n",
      " 40      0.402%      1.376%\n",
      "一共命中352个，一共推荐107160个，用户设置tag总数20861个\n",
      " 60      0.328%      1.687%\n",
      "一共命中424个，一共推荐142880个，用户设置tag总数20861个\n",
      " 80      0.297%      2.033%\n",
      "一共命中481个，一共推荐178600个，用户设置tag总数20861个\n",
      "100      0.269%      2.306%\n"
     ]
    }
   ],
   "source": [
    "methods = [\"SimpleTagBased\",\"NormTagBased\",\"TagBased_TFIDF\"]\n",
    "for method in methods:\n",
    "    testRecommend(method)"
   ]
  },
  {
   "cell_type": "code",
   "execution_count": null,
   "metadata": {},
   "outputs": [],
   "source": []
  }
 ],
 "metadata": {
  "kernelspec": {
   "display_name": "Python 3",
   "language": "python",
   "name": "python3"
  },
  "language_info": {
   "codemirror_mode": {
    "name": "ipython",
    "version": 3
   },
   "file_extension": ".py",
   "mimetype": "text/x-python",
   "name": "python",
   "nbconvert_exporter": "python",
   "pygments_lexer": "ipython3",
   "version": "3.7.3"
  }
 },
 "nbformat": 4,
 "nbformat_minor": 2
}
