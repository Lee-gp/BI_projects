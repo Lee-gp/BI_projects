{
  "nbformat": 4,
  "nbformat_minor": 0,
  "metadata": {
    "kernelspec": {
      "display_name": "Python 3",
      "language": "python",
      "name": "python3"
    },
    "language_info": {
      "codemirror_mode": {
        "name": "ipython",
        "version": 3
      },
      "file_extension": ".py",
      "mimetype": "text/x-python",
      "name": "python",
      "nbconvert_exporter": "python",
      "pygments_lexer": "ipython3",
      "version": "3.7.3"
    },
    "colab": {
      "name": "Action1_libfm_movielens.ipynb",
      "provenance": [],
      "include_colab_link": true
    }
  },
  "cells": [
    {
      "cell_type": "markdown",
      "metadata": {
        "id": "view-in-github",
        "colab_type": "text"
      },
      "source": [
        "<a href=\"https://colab.research.google.com/github/Lee-gp/BI_projects/blob/master/Action1_libfm_movielens.ipynb\" target=\"_parent\"><img src=\"https://colab.research.google.com/assets/colab-badge.svg\" alt=\"Open In Colab\"/></a>"
      ]
    },
    {
      "cell_type": "code",
      "metadata": {
        "id": "Q093ArnH5xmh"
      },
      "source": [
        "import os\n",
        "import pandas as pd\n",
        "import random"
      ],
      "execution_count": null,
      "outputs": []
    },
    {
      "cell_type": "code",
      "metadata": {
        "id": "MK_B6njf5xmi",
        "outputId": "b73d14d1-ae02-4177-9f5d-7d4771434c9a"
      },
      "source": [
        "script_path = os.path.realpath('./')\n",
        "print(script_path)\n",
        "# script_dir = os.path.dirname(script_path)\n",
        "# print(script_dir)\n",
        "libfm = script_path + '\\libfm.exe'\n",
        "print(libfm)\n",
        "triple_format_to_libfm = script_path + '\\script\\\\triple_format_to_libfm.pl'"
      ],
      "execution_count": null,
      "outputs": [
        {
          "output_type": "stream",
          "text": [
            "C:\\Users\\Administrator\\houchangligong\n",
            "C:\\Users\\Administrator\\houchangligong\\libfm.exe\n"
          ],
          "name": "stdout"
        }
      ]
    },
    {
      "cell_type": "code",
      "metadata": {
        "id": "jHr6D00K5xml"
      },
      "source": [
        "def pre_processing(text_file,target,separator = ',',delete_column = -1):\n",
        "    '''\n",
        "    将其他文件转为libsvm文件格式\n",
        "    '''\n",
        "    delete_str = ''\n",
        "    if delete_column != -1:\n",
        "        delete_str = '-delete_column' + str(delete_column)\n",
        "        \n",
        "    command = ' perl ' + triple_format_to_libfm \\\n",
        "              + ' -in ' + text_file\\\n",
        "              + ' -target ' + str(target)\\\n",
        "              + ' -separator ' + '\"' + separator + '\"'\\\n",
        "              + delete_str\n",
        "    print(command)\n",
        "    os.system(command)    "
      ],
      "execution_count": null,
      "outputs": []
    },
    {
      "cell_type": "code",
      "metadata": {
        "id": "IhHQylN95xmm"
      },
      "source": [
        "def call_libfm(train,test):\n",
        "    \n",
        "    command = libfm + ' -task r '\\\n",
        "              + \" -train \" + train\\\n",
        "              + \" -test \" + test\\\n",
        "              + \" -method sgd \"\\\n",
        "              + \" -iter 200 \"\\\n",
        "              + \" -learn_rate 0.01 \"\\\n",
        "              + \" -regular '0,0,0.01' \"\\\n",
        "              + \" -init_stdev 0.1 \"\\\n",
        "              + \" -dim '1,1,8' \"\\\n",
        "              + \" -out movie_out.txt \"\n",
        "    \n",
        "    print(command)    \n",
        "    os.system(command)"
      ],
      "execution_count": null,
      "outputs": []
    },
    {
      "cell_type": "code",
      "metadata": {
        "id": "P89g9HUS5xmm"
      },
      "source": [
        "def get_test(text_file):\n",
        "    data = pd.read_csv(text_file,header = None)\n",
        "    print(data.head())\n",
        "    \n",
        "    len_ = data.shape[0]\n",
        "    print(len_)\n",
        "    \n",
        "    test = []\n",
        "    for i in range(1000):\n",
        "        test.append(data.iloc[random.randint(0,len_)].values)\n",
        "    text_df = pd.DataFrame(test,index = None)\n",
        "    print(text_df.head())\n",
        "    text_df.to_csv('./test.csv',header = None,index = None)\n",
        "    return \"./test.csv\""
      ],
      "execution_count": null,
      "outputs": []
    },
    {
      "cell_type": "code",
      "metadata": {
        "id": "FiGVeX1m5xmm",
        "outputId": "547da2cf-2a83-4ce2-cdac-8823d023b99e"
      },
      "source": [
        "train = './ratings.csv'\n",
        "pre_processing(train,target = 2)\n",
        "train_libfm = './ratings.csv.libfm'\n",
        "\n",
        "test = get_test(train)\n",
        "pre_processing(test,target =2)\n",
        "test_libfm = './test.csv.libfm'\n",
        "\n",
        "call_libfm(train_libfm,test_libfm)"
      ],
      "execution_count": null,
      "outputs": [
        {
          "output_type": "stream",
          "text": [
            " perl C:\\Users\\Administrator\\houchangligong\\script\\triple_format_to_libfm.pl -in ./ratings.csv -target 2 -separator \",\"\n",
            "   0   1    2           3\n",
            "0  1   2  3.5  1112486027\n",
            "1  1  29  3.5  1112484676\n",
            "2  1  32  3.5  1112484819\n",
            "3  1  47  3.5  1112484727\n",
            "4  1  50  3.5  1112484580\n",
            "1048576\n",
            "        0         1    2             3\n",
            "0  1627.0     457.0  3.0  9.400896e+08\n",
            "1   607.0     435.0  3.0  8.321479e+08\n",
            "2  5138.0  106782.0  2.5  1.389518e+09\n",
            "3   960.0     225.0  4.0  8.371552e+08\n",
            "4  3171.0    1914.0  3.5  1.191253e+09\n",
            " perl C:\\Users\\Administrator\\houchangligong\\script\\triple_format_to_libfm.pl -in ./test.csv -target 2 -separator \",\"\n",
            "C:\\Users\\Administrator\\houchangligong\\libfm.exe -task r  -train ./ratings.csv.libfm -test ./test.csv.libfm -method sgd  -iter 200  -learn_rate 0.01  -regular '0,0,0.01'  -init_stdev 0.1  -dim '1,1,8'  -out movie_out.txt \n"
          ],
          "name": "stdout"
        }
      ]
    },
    {
      "cell_type": "code",
      "metadata": {
        "id": "TQxMnLT05xmm"
      },
      "source": [
        ""
      ],
      "execution_count": null,
      "outputs": []
    }
  ]
}