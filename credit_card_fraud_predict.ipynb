{
 "cells": [
  {
   "cell_type": "code",
   "execution_count": 1,
   "metadata": {},
   "outputs": [],
   "source": [
    "import pandas as pd\n",
    "import numpy as np\n",
    "import matplotlib.pyplot as plt\n",
    "import seaborn as sns\n",
    "from sklearn.preprocessing import StandardScaler\n",
    "from sklearn.model_selection import train_test_split\n",
    "from sklearn.linear_model import LogisticRegression \n",
    "from sklearn.metrics import confusion_matrix,precision_score,recall_score\n",
    "import itertools"
   ]
  },
  {
   "cell_type": "code",
   "execution_count": 2,
   "metadata": {},
   "outputs": [
    {
     "name": "stdout",
     "output_type": "stream",
     "text": [
      "   Time        V1        V2        V3        V4        V5        V6        V7  \\\n",
      "0   0.0 -1.359807 -0.072781  2.536347  1.378155 -0.338321  0.462388  0.239599   \n",
      "1   0.0  1.191857  0.266151  0.166480  0.448154  0.060018 -0.082361 -0.078803   \n",
      "2   1.0 -1.358354 -1.340163  1.773209  0.379780 -0.503198  1.800499  0.791461   \n",
      "3   1.0 -0.966272 -0.185226  1.792993 -0.863291 -0.010309  1.247203  0.237609   \n",
      "4   2.0 -1.158233  0.877737  1.548718  0.403034 -0.407193  0.095921  0.592941   \n",
      "\n",
      "         V8        V9  ...       V21       V22       V23       V24       V25  \\\n",
      "0  0.098698  0.363787  ... -0.018307  0.277838 -0.110474  0.066928  0.128539   \n",
      "1  0.085102 -0.255425  ... -0.225775 -0.638672  0.101288 -0.339846  0.167170   \n",
      "2  0.247676 -1.514654  ...  0.247998  0.771679  0.909412 -0.689281 -0.327642   \n",
      "3  0.377436 -1.387024  ... -0.108300  0.005274 -0.190321 -1.175575  0.647376   \n",
      "4 -0.270533  0.817739  ... -0.009431  0.798278 -0.137458  0.141267 -0.206010   \n",
      "\n",
      "        V26       V27       V28  Amount  Class  \n",
      "0 -0.189115  0.133558 -0.021053  149.62      0  \n",
      "1  0.125895 -0.008983  0.014724    2.69      0  \n",
      "2 -0.139097 -0.055353 -0.059752  378.66      0  \n",
      "3 -0.221929  0.062723  0.061458  123.50      0  \n",
      "4  0.502292  0.219422  0.215153   69.99      0  \n",
      "\n",
      "[5 rows x 31 columns]\n",
      "(284807, 31)\n",
      "Index(['Time', 'V1', 'V2', 'V3', 'V4', 'V5', 'V6', 'V7', 'V8', 'V9', 'V10',\n",
      "       'V11', 'V12', 'V13', 'V14', 'V15', 'V16', 'V17', 'V18', 'V19', 'V20',\n",
      "       'V21', 'V22', 'V23', 'V24', 'V25', 'V26', 'V27', 'V28', 'Amount',\n",
      "       'Class'],\n",
      "      dtype='object')\n"
     ]
    }
   ],
   "source": [
    "\"\"\"\n",
    "信用卡欺诈分析：\n",
    "数据集：2013年9月份两天时间内的信用卡交易数据\n",
    "284807笔交易，492笔欺诈行为\n",
    "https://www.kaggle.com/mlg-ulb/creditcardfraud\n",
    "数据样本包括了28个特征V1，V2，……V28，以及交易时间Time和交易金额Amount\n",
    "因为数据隐私，28个特征值是通过PCA变换得到的结果。\n",
    "需要预测 每笔交易的分类Class，该笔交易是否为欺诈\n",
    "Class=0为正常（非欺诈），Class=1代表欺诈\n",
    "\"\"\"\n",
    "# 数据加载\n",
    "data = pd.read_csv('./creditcard.csv')\n",
    "print(data.head())\n",
    "print(data.shape)\n",
    "print(data.columns)"
   ]
  },
  {
   "cell_type": "code",
   "execution_count": 3,
   "metadata": {},
   "outputs": [
    {
     "data": {
      "image/png": "[encoded data removed]",
      "text/plain": [
       "<Figure size 432x288 with 1 Axes>"
      ]
     },
     "metadata": {
      "needs_background": "light"
     },
     "output_type": "display_data"
    }
   ],
   "source": [
    "# 绘制Class分布\n",
    "sns.countplot(x = 'Class',data = data)\n",
    "plt.title('Class Show')\n",
    "plt.show()"
   ]
  },
  {
   "cell_type": "code",
   "execution_count": 4,
   "metadata": {},
   "outputs": [
    {
     "name": "stdout",
     "output_type": "stream",
     "text": [
      "总交易笔数： 284807\n",
      "欺诈交易笔数： 492\n",
      "欺诈交易比例：0.0017\n"
     ]
    }
   ],
   "source": [
    "# 计算交易笔数，欺诈交易笔数\n",
    "num = len(data)\n",
    "fraud_num = len(data[data['Class'] == 1])\n",
    "print('总交易笔数：',num)\n",
    "print('欺诈交易笔数：',fraud_num)\n",
    "print('欺诈交易比例：{:.4f}'.format(fraud_num/num))"
   ]
  },
  {
   "cell_type": "code",
   "execution_count": 5,
   "metadata": {},
   "outputs": [
    {
     "data": {
      "image/png": "[encoded data removed]",
      "text/plain": [
       "<Figure size 1152x576 with 2 Axes>"
      ]
     },
     "metadata": {
      "needs_background": "light"
     },
     "output_type": "display_data"
    }
   ],
   "source": [
    "# 查看Class的时间分布\n",
    "f,(ax1,ax2) = plt.subplots(2,1,figsize = (16,8))\n",
    "\n",
    "plt.xlabel('Time')\n",
    "plt.ylabel('Transaction Count')\n",
    "#欺诈交易\n",
    "ax1.hist(data.Time[data['Class'] == 1],bins = 50,color = 'deeppink')\n",
    "ax1.set_title('Fraud Transaction')\n",
    "#正常交易\n",
    "ax2.hist(data.Time[data['Class'] == 0],bins = 50,color = 'blue')\n",
    "ax2.set_title('Normal Transaction')\n",
    "\n",
    "plt.show()"
   ]
  },
  {
   "cell_type": "code",
   "execution_count": 6,
   "metadata": {},
   "outputs": [
    {
     "name": "stdout",
     "output_type": "stream",
     "text": [
      "   Time        V1        V2        V3        V4        V5        V6        V7  \\\n",
      "0   0.0 -1.359807 -0.072781  2.536347  1.378155 -0.338321  0.462388  0.239599   \n",
      "1   0.0  1.191857  0.266151  0.166480  0.448154  0.060018 -0.082361 -0.078803   \n",
      "2   1.0 -1.358354 -1.340163  1.773209  0.379780 -0.503198  1.800499  0.791461   \n",
      "3   1.0 -0.966272 -0.185226  1.792993 -0.863291 -0.010309  1.247203  0.237609   \n",
      "4   2.0 -1.158233  0.877737  1.548718  0.403034 -0.407193  0.095921  0.592941   \n",
      "\n",
      "         V8        V9  ...       V22       V23       V24       V25       V26  \\\n",
      "0  0.098698  0.363787  ...  0.277838 -0.110474  0.066928  0.128539 -0.189115   \n",
      "1  0.085102 -0.255425  ... -0.638672  0.101288 -0.339846  0.167170  0.125895   \n",
      "2  0.247676 -1.514654  ...  0.771679  0.909412 -0.689281 -0.327642 -0.139097   \n",
      "3  0.377436 -1.387024  ...  0.005274 -0.190321 -1.175575  0.647376 -0.221929   \n",
      "4 -0.270533  0.817739  ...  0.798278 -0.137458  0.141267 -0.206010  0.502292   \n",
      "\n",
      "        V27       V28  Amount  Class  Amount_norm  \n",
      "0  0.133558 -0.021053  149.62      0     0.244964  \n",
      "1 -0.008983  0.014724    2.69      0    -0.342475  \n",
      "2 -0.055353 -0.059752  378.66      0     1.160686  \n",
      "3  0.062723  0.061458  123.50      0     0.140534  \n",
      "4  0.219422  0.215153   69.99      0    -0.073403  \n",
      "\n",
      "[5 rows x 32 columns]\n"
     ]
    }
   ],
   "source": [
    "# 对Amount进行数据规范化\n",
    "data['Amount_norm'] = StandardScaler().fit_transform(data['Amount'].values.reshape(-1,1))\n",
    "print(data.head())"
   ]
  },
  {
   "cell_type": "code",
   "execution_count": 7,
   "metadata": {},
   "outputs": [],
   "source": [
    "#plot confusion matrix\n",
    "def plot_confusion_matrix(cm,classes,normalize = False,title = 'Confusion Matrix',cmap = plt.cm.Blues):\n",
    "    plt.figure()\n",
    "    plt.imshow(cm,interpolation = 'nearest',cmap = cmap)\n",
    "    plt.title(title)\n",
    "    plt.colorbar()\n",
    "    tick_marks = np.arange(len(classes))\n",
    "    plt.xticks(tick_marks,classes,rotation = 0)\n",
    "    plt.yticks(tick_marks,classes)\n",
    "    thresh = cm.max()/2\n",
    "    for i,j in itertools.product(range(cm.shape[0]),range(cm.shape[1])):\n",
    "        plt.text(j,i,cm[i,j],\n",
    "                 horizontalalignment = 'center',\n",
    "                 color = 'white' if cm[i,j] > thresh else 'black')\n",
    "    plt.tight_layout()\n",
    "    plt.ylabel('True label')\n",
    "    plt.xlabel('Predict label')\n",
    "    plt.show()   "
   ]
  },
  {
   "cell_type": "code",
   "execution_count": 9,
   "metadata": {},
   "outputs": [
    {
     "data": {
      "image/png": "[encoded data removed]",
      "text/plain": [
       "<Figure size 432x288 with 2 Axes>"
      ]
     },
     "metadata": {
      "needs_background": "light"
     },
     "output_type": "display_data"
    }
   ],
   "source": [
    "# 准备训练数据\n",
    "y = np.array(data.Class.tolist())\n",
    "X = data.drop(['Time','Amount','Class'],axis = 1)\n",
    "\n",
    "# 切分数据集\n",
    "X_train,X_test,y_train,y_test = train_test_split(X,y,test_size = 0.1)\n",
    "\n",
    "# 使用逻辑回归分类\n",
    "clf = LogisticRegression()\n",
    "clf.fit(X_train,y_train)\n",
    "predict_y = clf.predict(X_test)\n",
    "\n",
    "# 计算混淆矩阵\n",
    "cm = confusion_matrix(y_test,predict_y)\n",
    "classes = [0,1]\n",
    "\n",
    "# 混淆矩阵可视化\n",
    "plot_confusion_matrix(cm,classes)"
   ]
  },
  {
   "cell_type": "code",
   "execution_count": 15,
   "metadata": {},
   "outputs": [],
   "source": [
    "# 计算评估分数\n",
    "def show_metrics():\n",
    "    tp,fp,tn,fn = cm[1,1],cm[0,1],cm[0,0],cm[1,0]\n",
    "    precision = tp / (tp + fp)\n",
    "    recall = tp / (tp + fn)\n",
    "    print('Precision:{:.3f}'.format(precision))\n",
    "    print('Recall:{:.3f}'.format(recall))\n",
    "    print('F1_score:{:.3f}'.format(2 * precision * recall/(precision + recall)))    "
   ]
  },
  {
   "cell_type": "code",
   "execution_count": 16,
   "metadata": {
    "scrolled": true
   },
   "outputs": [
    {
     "name": "stdout",
     "output_type": "stream",
     "text": [
      "Precision:0.882\n",
      "Recall:0.556\n",
      "F1_score:0.682\n"
     ]
    }
   ],
   "source": [
    "#计算评估指标\n",
    "show_metrics()"
   ]
  },
  {
   "cell_type": "code",
   "execution_count": 17,
   "metadata": {},
   "outputs": [
    {
     "data": {
      "image/png": "[encoded data removed]",
      "text/plain": [
       "<Figure size 864x576 with 1 Axes>"
      ]
     },
     "metadata": {
      "needs_background": "light"
     },
     "output_type": "display_data"
    }
   ],
   "source": [
    "# 显示模型中特征重要性\n",
    "coeffs = clf.coef_\n",
    "df_co = pd.DataFrame(np.transpose(abs(coeffs)),columns = ['coef_'])\n",
    "# 下标设置为feature_name\n",
    "df_co.index = X.columns\n",
    "df_co.sort_values('coef_',ascending = True,inplace = True)\n",
    "plt.figure(figsize =(12,8))\n",
    "df_co.coef_.plot(kind = 'barh')\n",
    "plt.title('feature importance')\n",
    "plt.show()"
   ]
  }
 ],
 "metadata": {
  "kernelspec": {
   "display_name": "Python 3",
   "language": "python",
   "name": "python3"
  },
  "language_info": {
   "codemirror_mode": {
    "name": "ipython",
    "version": 3
   },
   "file_extension": ".py",
   "mimetype": "text/x-python",
   "name": "python",
   "nbconvert_exporter": "python",
   "pygments_lexer": "ipython3",
   "version": "3.7.3"
  }
 },
 "nbformat": 4,
 "nbformat_minor": 2
}
