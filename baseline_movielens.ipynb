{
  "nbformat": 4,
  "nbformat_minor": 0,
  "metadata": {
    "kernelspec": {
      "display_name": "Python 3",
      "language": "python",
      "name": "python3"
    },
    "language_info": {
      "codemirror_mode": {
        "name": "ipython",
        "version": 3
      },
      "file_extension": ".py",
      "mimetype": "text/x-python",
      "name": "python",
      "nbconvert_exporter": "python",
      "pygments_lexer": "ipython3",
      "version": "3.7.3"
    },
    "colab": {
      "name": "baseline-movielens.ipynb",
      "provenance": [],
      "collapsed_sections": [],
      "include_colab_link": true
    }
  },
  "cells": [
    {
      "cell_type": "markdown",
      "metadata": {
        "id": "view-in-github",
        "colab_type": "text"
      },
      "source": [
        "<a href=\"https://colab.research.google.com/github/Lee-gp/BI_projects/blob/master/baseline_movielens.ipynb\" target=\"_parent\"><img src=\"https://colab.research.google.com/assets/colab-badge.svg\" alt=\"Open In Colab\"/></a>"
      ]
    },
    {
      "cell_type": "code",
      "metadata": {
        "id": "byuiFcGLWCOC"
      },
      "source": [
        "# !pip install surprise\n",
        "from surprise import Dataset\n",
        "from surprise import Reader\n",
        "from surprise import BaselineOnly,KNNBasic,NormalPredictor,SlopeOne\n",
        "from surprise import accuracy\n",
        "from surprise.model_selection import KFold"
      ],
      "execution_count": 7,
      "outputs": []
    },
    {
      "cell_type": "code",
      "metadata": {
        "colab": {
          "base_uri": "https://localhost:8080/"
        },
        "id": "WdQAWdwnXSpv",
        "outputId": "462b5935-eb21-4a76-c894-dfaeef4a4150"
      },
      "source": [
        "#数据读取\n",
        "from google.colab import drive\n",
        "import os\n",
        "drive.mount(\"/content/drive\")\n",
        "os.chdir(\"/content/drive/My Drive/Colab Notebooks/BI_core_L4\")\n",
        "reader = Reader(line_format = 'user item rating timestamp',sep = ',',skip_lines =1)\n",
        "data = Dataset.load_from_file('./ratings.csv',reader = reader)\n",
        "train_set = data.build_full_trainset()"
      ],
      "execution_count": 8,
      "outputs": [
        {
          "output_type": "stream",
          "text": [
            "Mounted at /content/drive\n"
          ],
          "name": "stdout"
        }
      ]
    },
    {
      "cell_type": "code",
      "metadata": {
        "id": "pJK8OwrfWCOD"
      },
      "source": [
        "#ALS优化\n",
        "bsl_options = {'method':'als','n_epochs':5,'reg_u':12,'reg_i':5}\n",
        "#SGD优化\n",
        "# bsl_options = {'method':'sgd','n_eptchs':5}\n",
        "algo = BaselineOnly(bsl_options = bsl_options)\n",
        "#algo = BaselineOnly()\n",
        "# algo = NormalPredictor()\n",
        "#algo = SlopeOne()"
      ],
      "execution_count": 9,
      "outputs": []
    },
    {
      "cell_type": "code",
      "metadata": {
        "colab": {
          "base_uri": "https://localhost:8080/"
        },
        "id": "KQH0Xq2iWCOD",
        "outputId": "392efa0f-0d4d-4e01-90f5-e3e39f570bcc"
      },
      "source": [
        "#定义K折交叉验证迭代器，K = 3\n",
        "kf = KFold(n_splits = 3)\n",
        "for trainset,testset in kf.split(data):\n",
        "    #训练并预测\n",
        "    algo.fit(train_set)\n",
        "    predictions = algo.test(testset)\n",
        "    #计算RMSE\n",
        "    accuracy.rmse(predictions,verbose = True)    "
      ],
      "execution_count": 10,
      "outputs": [
        {
          "output_type": "stream",
          "text": [
            "Estimating biases using als...\n",
            "RMSE: 0.8460\n",
            "Estimating biases using als...\n",
            "RMSE: 0.8475\n",
            "Estimating biases using als...\n",
            "RMSE: 0.8486\n"
          ],
          "name": "stdout"
        }
      ]
    },
    {
      "cell_type": "code",
      "metadata": {
        "colab": {
          "base_uri": "https://localhost:8080/"
        },
        "id": "1SuydrqQWCOF",
        "outputId": "bf3d9e34-5954-4544-d3e8-c6a0358e0f7b"
      },
      "source": [
        "uid = str(196)\n",
        "iid = str(302)\n",
        "#输出uid对iid的预测结果\n",
        "pred = algo.predict(uid,iid,r_ui =4,verbose = True)"
      ],
      "execution_count": 11,
      "outputs": [
        {
          "output_type": "stream",
          "text": [
            "user: 196        item: 302        r_ui = 4.00   est = 4.17   {'was_impossible': False}\n"
          ],
          "name": "stdout"
        }
      ]
    }
  ]
}